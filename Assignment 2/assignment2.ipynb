{
 "cells": [
  {
   "cell_type": "markdown",
   "metadata": {},
   "source": [
    "# PART I: Theory Questions"
   ]
  },
  {
   "cell_type": "markdown",
   "metadata": {},
   "source": [
    "---"
   ]
  },
  {
   "cell_type": "markdown",
   "metadata": {},
   "source": [
    "## 1. Question"
   ]
  },
  {
   "cell_type": "markdown",
   "metadata": {},
   "source": [
    "In this question we are asked to sort the emergency calls based on their probability of being an actual emergency. To do that, we have a slick rule called Bayes' Theorem, something derived by our friendly neighborhood statistician, Thomas Bayes. Which states:\n",
    "\n",
    "$$\n",
    "P(A|B)\n",
    "=\n",
    "\\frac{P(B|A) \\cdot P(A)}{P(B)}\n",
    "$$\n",
    "\n",
    "Where $A$ and $B$ are events. Explaining this theorem in detail:\n",
    "- $P(A|B)$ is the conditional probability of $A$ given $B$.\n",
    "- $P(B|A)$ is interpreted in a similar fashion with the former one.\n",
    "- $P(A) \\text{ and } P(B)$ are probabilities of $A \\text{ and } B$ without any given conditions."
   ]
  },
  {
   "cell_type": "markdown",
   "metadata": {},
   "source": [
    "Or if we were to make a more general definition:\n",
    "\n",
    "$\\text{Let } A_1, A_2,...,A_k$ be a collection of $k$ mutually exclusive and exhaustive events with $prior$ probabilities $P(A_i) \\text{ }(i = 1,...,k)$. Then for any other event $B$ for which $P(B) > 0$, the $posterior$ probability of $A_j$ given that $B$ has occured is:\n",
    "\n",
    "\n",
    "$$\n",
    "P(A_j|B)\n",
    "=\n",
    "\\frac{P(B|A_j)\\cdot P(A_j)}{\\sum_{i=1}^{k} P(B|A_i)\\cdot P(A_i)}\n",
    "\\qquad\n",
    "j = 1, ... , k\n",
    "$$"
   ]
  },
  {
   "cell_type": "markdown",
   "metadata": {},
   "source": [
    "Now we can examine all cases one by one."
   ]
  },
  {
   "cell_type": "markdown",
   "metadata": {},
   "source": [
    "### 1st Neighborhood"
   ]
  },
  {
   "cell_type": "markdown",
   "metadata": {},
   "source": [
    "We have these values:\n",
    "- $P(D) = 0.01 \\qquad$ Probability of dangerous fire\n",
    "- $P(\\text{Barbecue Smoke}) = 0.2$ \n",
    "- $P(S|D) = 0.8\\qquad$ Probability of smoke given that there is a dangerous fire"
   ]
  },
  {
   "cell_type": "markdown",
   "metadata": {},
   "source": [
    "Using the Bayes' Theorem, we need to solve this:\n",
    "\n",
    "$$\n",
    "P(D|S)\n",
    "=\n",
    "\\frac{P(S|D) \\cdot P(D)}{P(S)}\n",
    "$$"
   ]
  },
  {
   "cell_type": "markdown",
   "metadata": {},
   "source": [
    "Here we don't know the value of $P(S)$. But we can calculate it with the usage of law of total probability, assuming smoke is caused by only barbecue or a dangerous fire:\n",
    "\n",
    "$$\n",
    "P(S) = P(\\text{Barbecue Smoke}) + P(S|D) \\cdot P(D)\n",
    "$$\n",
    "\n",
    "$$\n",
    "= 0.2 + (0.8 \\times 0.01)\n",
    "$$\n",
    "\n",
    "$$\n",
    "= 0.208\n",
    "$$"
   ]
  },
  {
   "cell_type": "markdown",
   "metadata": {},
   "source": [
    "Now substituting other values:\n",
    "\n",
    "$$\n",
    "P(D|S)\n",
    "=\n",
    "\\frac{0.8 \\times 0.01}{0.208}\n",
    "$$\n",
    "\n",
    "$$\n",
    "\\approx  0.0385\n",
    "$$"
   ]
  },
  {
   "cell_type": "markdown",
   "metadata": {},
   "source": [
    "We can say for this case, the probability of a dangerous fire is approximately 3.85%."
   ]
  },
  {
   "cell_type": "markdown",
   "metadata": {},
   "source": [
    "### 2nd Neighborhood"
   ]
  },
  {
   "cell_type": "markdown",
   "metadata": {},
   "source": [
    "We have these values:\n",
    "- $P(D) = 0.35 \\qquad$ Probability of dangerous fire\n",
    "- $P(\\text{Factory Smoke}) = 0.1$ \n",
    "- $P(S|D) = 0.01\\qquad$ Probability of smoke given that there is a dangerous fire"
   ]
  },
  {
   "cell_type": "markdown",
   "metadata": {},
   "source": [
    "Calculating $P(S)$: (Main Bayes' Theorem is the same, so it won't take place here explicitly.)\n",
    "\n",
    "$$\n",
    "P(S) = P(\\text{Factory Smoke}) + P(S|D) \\cdot P(D)\n",
    "$$\n",
    "\n",
    "$$\n",
    "= 0.1 + (0.35 \\times 0.01)\n",
    "$$\n",
    "\n",
    "$$\n",
    "= 0.1035\n",
    "$$"
   ]
  },
  {
   "cell_type": "markdown",
   "metadata": {},
   "source": [
    "Now substituting other values:\n",
    "\n",
    "$$\n",
    "P(D|S)\n",
    "=\n",
    "\\frac{0.35 \\times 0.01}{0.1035}\n",
    "$$\n",
    "\n",
    "$$\n",
    "\\approx  0.0338\n",
    "$$"
   ]
  },
  {
   "cell_type": "markdown",
   "metadata": {},
   "source": [
    "### 3rd Neighborhood"
   ]
  },
  {
   "cell_type": "markdown",
   "metadata": {},
   "source": [
    "We have these values:\n",
    "- $P(D) = 0.1 \\qquad$ Probability of dangerous fire\n",
    "- $P(\\text{Coal Smoke}) = 0.8$ \n",
    "- $P(S|D) = 0.3\\qquad$ Probability of smoke given that there is a dangerous fire"
   ]
  },
  {
   "cell_type": "markdown",
   "metadata": {},
   "source": [
    "Calculating $P(S)$:\n",
    "\n",
    "$$\n",
    "P(S) = P(\\text{Coal Smoke}) + P(S|D) \\cdot P(D)\n",
    "$$\n",
    "\n",
    "$$\n",
    "= 0.8 + (0.3 \\times 0.1)\n",
    "$$\n",
    "\n",
    "$$\n",
    "= 0.83\n",
    "$$"
   ]
  },
  {
   "cell_type": "markdown",
   "metadata": {},
   "source": [
    "Now substituting other values:\n",
    "\n",
    "$$\n",
    "P(D|S)\n",
    "=\n",
    "\\frac{0.3 \\times 0.1}{0.83}\n",
    "$$\n",
    "\n",
    "$$\n",
    "\\approx  0.0361\n",
    "$$"
   ]
  },
  {
   "cell_type": "markdown",
   "metadata": {},
   "source": [
    "Comparing probabilities for all three cases $(P_1, P_2, P_3)$, we can sort them in this way:\n",
    "\n",
    "$$\n",
    "P_1 > P_3 > P_2\n",
    "$$"
   ]
  },
  {
   "cell_type": "markdown",
   "metadata": {},
   "source": [
    "---"
   ]
  },
  {
   "cell_type": "markdown",
   "metadata": {},
   "source": [
    "## 2. Question"
   ]
  },
  {
   "cell_type": "markdown",
   "metadata": {},
   "source": [
    "Let's visualize the boxes first:\n",
    "\n",
    "| Box Name | Red Count | Blue Count | Pr. of Being Selected\n",
    "|----------|-----------|------------|---------------------|\n",
    "|   Box 1  |     5     |      3     |        0.4          |\n",
    "|   Box 2  |     7     |      4     |        0.6          |"
   ]
  },
  {
   "cell_type": "markdown",
   "metadata": {},
   "source": [
    "### 1st Case"
   ]
  },
  {
   "cell_type": "markdown",
   "metadata": {},
   "source": [
    "Probability of a blue ball drawn is the sum of separate probabilities of a blue ball drawn from each box. For the first box:\n",
    "\n",
    "$$\n",
    "0.4 \\times \\frac{3}{8} = \\frac{1.2}{8}\n",
    "$$\n",
    "\n",
    "For the second one:\n",
    "\n",
    "$$\n",
    "0.6 \\times \\frac{4}{11} = \\frac{2.4}{11}\n",
    "$$\n",
    "\n",
    "Which makes a total of:\n",
    "\n",
    "$$\n",
    "\\frac{1.2}{8} + \\frac{2.4}{11} = \\frac{32.4}{88}\n",
    "$$"
   ]
  },
  {
   "cell_type": "markdown",
   "metadata": {},
   "source": [
    "### 2nd Case"
   ]
  },
  {
   "cell_type": "markdown",
   "metadata": {},
   "source": [
    "The probability of second box being selected ($P(S)$), if it is known that a blue ball is drawn ($P(B)$) can be calculated using Bayes' Theorem again:\n",
    "\n",
    "$$\n",
    "P(S|B) = \\frac{P(B|S) \\cdot P(S)}{P(B)}\n",
    "$$"
   ]
  },
  {
   "cell_type": "markdown",
   "metadata": {},
   "source": [
    "$P(B)$ was calculated as $\\frac{32.4}{88}$ in the previous case. We already know other values too. Substituting:\n",
    "\n",
    "$$\n",
    "P(S|B) = \\frac{\\frac{4}{11} \\cdot 0.6}{\\frac{32.4}{88}}\n",
    "$$\n",
    "\n",
    "$$\n",
    "= \\frac{19.2}{32.4}\n",
    "$$"
   ]
  },
  {
   "cell_type": "markdown",
   "metadata": {},
   "source": [
    "---"
   ]
  },
  {
   "cell_type": "markdown",
   "metadata": {},
   "source": [
    "## 3. Question"
   ]
  },
  {
   "cell_type": "markdown",
   "metadata": {},
   "source": [
    "- Text classification is the primary application for Naïve Bayes classifier methods. (<span style=\"color: red;\">T</span>) <span style=\"color: red;\">Yes, it is mostly used for spam detection, sentiment analysis etc.</span>\n",
    "- When an attribute value in the testing record has no example in the training set, the total posterior probability in a Naïve Bayes algorithm will be zero. (<span style=\"color: red;\">T</span>) <span style=\"color: red;\">True, and it's called the Zero Frequency Problem.</span>"
   ]
  },
  {
   "cell_type": "markdown",
   "metadata": {},
   "source": [
    "---"
   ]
  },
  {
   "cell_type": "markdown",
   "metadata": {},
   "source": [
    "# PART II: Movie Review Classification System"
   ]
  }
 ],
 "metadata": {
  "language_info": {
   "name": "python"
  }
 },
 "nbformat": 4,
 "nbformat_minor": 2
}
