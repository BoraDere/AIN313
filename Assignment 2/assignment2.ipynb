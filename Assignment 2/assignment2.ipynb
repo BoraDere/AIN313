{
 "cells": [
  {
   "cell_type": "markdown",
   "metadata": {},
   "source": [
    "# PART I: Theory Questions"
   ]
  },
  {
   "cell_type": "markdown",
   "metadata": {},
   "source": [
    "---"
   ]
  },
  {
   "cell_type": "markdown",
   "metadata": {},
   "source": [
    "## 1. Question"
   ]
  },
  {
   "cell_type": "markdown",
   "metadata": {},
   "source": [
    "In this question we are asked to sort the emergency calls based on their probability of being an actual emergency. To do that, we have a slick rule called Bayes' Theorem, something derived by our friendly neighborhood statistician, Thomas Bayes. Which states:\n",
    "\n",
    "$$\n",
    "P(A|B)\n",
    "=\n",
    "\\frac{P(B|A) \\cdot P(A)}{P(B)}\n",
    "$$\n",
    "\n",
    "Where $A$ and $B$ are events. Explaining this theorem in detail:\n",
    "- $P(A|B)$ is the conditional probability of $A$ given $B$.\n",
    "- $P(B|A)$ is interpreted in a similar fashion with the former one.\n",
    "- $P(A) \\text{ and } P(B)$ are probabilities of $A \\text{ and } B$ without any given conditions."
   ]
  },
  {
   "cell_type": "markdown",
   "metadata": {},
   "source": [
    "Or if we were to make a more general definition:\n",
    "\n",
    "$\\text{Let } A_1, A_2,...,A_k$ be a collection of $k$ mutually exclusive and exhaustive events with $prior$ probabilities $P(A_i) \\text{ }(i = 1,...,k)$. Then for any other event $B$ for which $P(B) > 0$, the $posterior$ probability of $A_j$ given that $B$ has occured is:\n",
    "\n",
    "\n",
    "$$\n",
    "P(A_j|B)\n",
    "=\n",
    "\\frac{P(B|A_j)\\cdot P(A_j)}{\\sum_{i=1}^{k} P(B|A_i)\\cdot P(A_i)}\n",
    "\\qquad\n",
    "j = 1, ... , k\n",
    "$$"
   ]
  },
  {
   "cell_type": "markdown",
   "metadata": {},
   "source": [
    "Now we can examine all cases one by one."
   ]
  },
  {
   "cell_type": "markdown",
   "metadata": {},
   "source": [
    "### 1st Neighborhood"
   ]
  },
  {
   "cell_type": "markdown",
   "metadata": {},
   "source": [
    "We have these values:\n",
    "- $P(D) = 0.01 \\qquad$ Probability of dangerous fire\n",
    "- $P(\\text{Barbecue Smoke}) = 0.2$ \n",
    "- $P(S|D) = 0.8\\qquad$ Probability of smoke given that there is a dangerous fire"
   ]
  },
  {
   "cell_type": "markdown",
   "metadata": {},
   "source": [
    "Using the Bayes' Theorem, we need to solve this:\n",
    "\n",
    "$$\n",
    "P(D|S)\n",
    "=\n",
    "\\frac{P(S|D) \\cdot P(D)}{P(S)}\n",
    "$$"
   ]
  },
  {
   "cell_type": "markdown",
   "metadata": {},
   "source": [
    "Here we don't know the value of $P(S)$. But we can calculate it with the usage of law of total probability, assuming smoke is caused by only barbecue or a dangerous fire:\n",
    "\n",
    "$$\n",
    "P(S) = P(\\text{Barbecue Smoke}) + P(S|D) \\cdot P(D)\n",
    "$$\n",
    "\n",
    "$$\n",
    "= 0.2 + (0.8 \\times 0.01)\n",
    "$$\n",
    "\n",
    "$$\n",
    "= 0.208\n",
    "$$"
   ]
  },
  {
   "cell_type": "markdown",
   "metadata": {},
   "source": [
    "Now substituting other values:\n",
    "\n",
    "$$\n",
    "P(D|S)\n",
    "=\n",
    "\\frac{0.8 \\times 0.01}{0.208}\n",
    "$$\n",
    "\n",
    "$$\n",
    "\\approx  0.0385\n",
    "$$"
   ]
  },
  {
   "cell_type": "markdown",
   "metadata": {},
   "source": [
    "We can say for this case, the probability of a dangerous fire is approximately 3.85%."
   ]
  },
  {
   "cell_type": "markdown",
   "metadata": {},
   "source": [
    "### 2nd Neighborhood"
   ]
  },
  {
   "cell_type": "markdown",
   "metadata": {},
   "source": [
    "We have these values:\n",
    "- $P(D) = 0.35 \\qquad$ Probability of dangerous fire\n",
    "- $P(\\text{Factory Smoke}) = 0.1$ \n",
    "- $P(S|D) = 0.01\\qquad$ Probability of smoke given that there is a dangerous fire"
   ]
  },
  {
   "cell_type": "markdown",
   "metadata": {},
   "source": [
    "Calculating $P(S)$: (Main Bayes' Theorem is the same, so it won't take place here explicitly.)\n",
    "\n",
    "$$\n",
    "P(S) = P(\\text{Factory Smoke}) + P(S|D) \\cdot P(D)\n",
    "$$\n",
    "\n",
    "$$\n",
    "= 0.1 + (0.35 \\times 0.01)\n",
    "$$\n",
    "\n",
    "$$\n",
    "= 0.1035\n",
    "$$"
   ]
  },
  {
   "cell_type": "markdown",
   "metadata": {},
   "source": [
    "Now substituting other values:\n",
    "\n",
    "$$\n",
    "P(D|S)\n",
    "=\n",
    "\\frac{0.35 \\times 0.01}{0.1035}\n",
    "$$\n",
    "\n",
    "$$\n",
    "\\approx  0.0338\n",
    "$$"
   ]
  },
  {
   "cell_type": "markdown",
   "metadata": {},
   "source": [
    "### 3rd Neighborhood"
   ]
  },
  {
   "cell_type": "markdown",
   "metadata": {},
   "source": [
    "We have these values:\n",
    "- $P(D) = 0.1 \\qquad$ Probability of dangerous fire\n",
    "- $P(\\text{Coal Smoke}) = 0.8$ \n",
    "- $P(S|D) = 0.3\\qquad$ Probability of smoke given that there is a dangerous fire"
   ]
  },
  {
   "cell_type": "markdown",
   "metadata": {},
   "source": [
    "Calculating $P(S)$:\n",
    "\n",
    "$$\n",
    "P(S) = P(\\text{Coal Smoke}) + P(S|D) \\cdot P(D)\n",
    "$$\n",
    "\n",
    "$$\n",
    "= 0.8 + (0.3 \\times 0.1)\n",
    "$$\n",
    "\n",
    "$$\n",
    "= 0.83\n",
    "$$"
   ]
  },
  {
   "cell_type": "markdown",
   "metadata": {},
   "source": [
    "Now substituting other values:\n",
    "\n",
    "$$\n",
    "P(D|S)\n",
    "=\n",
    "\\frac{0.3 \\times 0.1}{0.83}\n",
    "$$\n",
    "\n",
    "$$\n",
    "\\approx  0.0361\n",
    "$$"
   ]
  },
  {
   "cell_type": "markdown",
   "metadata": {},
   "source": [
    "Comparing probabilities for all three cases $(P_1, P_2, P_3)$, we can sort them in this way:\n",
    "\n",
    "$$\n",
    "P_1 > P_3 > P_2\n",
    "$$"
   ]
  },
  {
   "cell_type": "markdown",
   "metadata": {},
   "source": [
    "---"
   ]
  },
  {
   "cell_type": "markdown",
   "metadata": {},
   "source": [
    "## 2. Question"
   ]
  },
  {
   "cell_type": "markdown",
   "metadata": {},
   "source": [
    "Let's visualize the boxes first:\n",
    "\n",
    "| Box Name | Red Count | Blue Count | Pr. of Being Selected |\n",
    "|----------|-----------|------------|-----------------------|\n",
    "|   Box 1  |     5     |      3     |          0.4          |\n",
    "|   Box 2  |     7     |      4     |          0.6          |"
   ]
  },
  {
   "cell_type": "markdown",
   "metadata": {},
   "source": [
    "### 1st Case"
   ]
  },
  {
   "cell_type": "markdown",
   "metadata": {},
   "source": [
    "Probability of a blue ball drawn is the sum of separate probabilities of a blue ball drawn from each box. For the first box:\n",
    "\n",
    "$$\n",
    "0.4 \\times \\frac{3}{8} = \\frac{1.2}{8}\n",
    "$$\n",
    "\n",
    "For the second one:\n",
    "\n",
    "$$\n",
    "0.6 \\times \\frac{4}{11} = \\frac{2.4}{11}\n",
    "$$\n",
    "\n",
    "Which makes a total of:\n",
    "\n",
    "$$\n",
    "\\frac{1.2}{8} + \\frac{2.4}{11} = \\frac{32.4}{88}\n",
    "$$"
   ]
  },
  {
   "cell_type": "markdown",
   "metadata": {},
   "source": [
    "### 2nd Case"
   ]
  },
  {
   "cell_type": "markdown",
   "metadata": {},
   "source": [
    "The probability of second box being selected ($P(S)$), if it is known that a blue ball is drawn ($P(B)$) can be calculated using Bayes' Theorem again:\n",
    "\n",
    "$$\n",
    "P(S|B) = \\frac{P(B|S) \\cdot P(S)}{P(B)}\n",
    "$$"
   ]
  },
  {
   "cell_type": "markdown",
   "metadata": {},
   "source": [
    "$P(B)$ was calculated as $\\frac{32.4}{88}$ in the previous case. We already know other values too. Substituting:\n",
    "\n",
    "$$\n",
    "P(S|B) = \\frac{\\frac{4}{11} \\cdot 0.6}{\\frac{32.4}{88}}\n",
    "$$\n",
    "\n",
    "$$\n",
    "= \\frac{19.2}{32.4}\n",
    "$$"
   ]
  },
  {
   "cell_type": "markdown",
   "metadata": {},
   "source": [
    "---"
   ]
  },
  {
   "cell_type": "markdown",
   "metadata": {},
   "source": [
    "## 3. Question"
   ]
  },
  {
   "cell_type": "markdown",
   "metadata": {},
   "source": [
    "- Text classification is the primary application for Naïve Bayes classifier methods. (<span style=\"color: red;\">T</span>) <span style=\"color: red;\">Yes, it is mostly used for spam detection, sentiment analysis etc.</span>\n",
    "- When an attribute value in the testing record has no example in the training set, the total posterior probability in a Naïve Bayes algorithm will be zero. (<span style=\"color: red;\">T</span>) <span style=\"color: red;\">True, and it's called the Zero Frequency Problem.</span>"
   ]
  },
  {
   "cell_type": "markdown",
   "metadata": {},
   "source": [
    "---"
   ]
  },
  {
   "cell_type": "markdown",
   "metadata": {},
   "source": [
    "# PART II: Movie Review Classification System"
   ]
  },
  {
   "cell_type": "markdown",
   "metadata": {},
   "source": [
    "## Step 1: Importing and Visualizing Data"
   ]
  },
  {
   "cell_type": "code",
   "execution_count": null,
   "metadata": {},
   "outputs": [],
   "source": [
    "%pip install pandas\n",
    "%pip install seaborn\n",
    "%pip install matplotlib"
   ]
  },
  {
   "cell_type": "code",
   "execution_count": 1,
   "metadata": {},
   "outputs": [],
   "source": [
    "import pandas as pd\n",
    "import os\n",
    "import seaborn as sns\n",
    "import matplotlib.pyplot as plt"
   ]
  },
  {
   "cell_type": "code",
   "execution_count": 2,
   "metadata": {},
   "outputs": [],
   "source": [
    "TRAIN_PATH = 'aclImdb/train/'\n",
    "TEST_PATH = 'aclImdb/test/'"
   ]
  },
  {
   "cell_type": "markdown",
   "metadata": {},
   "source": [
    "First, we should acquire the data. So that we can use it."
   ]
  },
  {
   "cell_type": "code",
   "execution_count": 3,
   "metadata": {},
   "outputs": [],
   "source": [
    "def load_data(path: str) -> pd.DataFrame:\n",
    "    \"\"\"\n",
    "    Function to load the data from the aclImdb dataset.\n",
    "\n",
    "    :param path: Path to the train or test folder\n",
    "    :return: A pandas DataFrame with the reviews and the sentiment\n",
    "    \"\"\"\n",
    "\n",
    "    data = {'review': [], 'sentiment': []}\n",
    "    \n",
    "    for sentiment in ['pos', 'neg']:\n",
    "        sentiment_path = os.path.join(path, sentiment)\n",
    "        for filename in os.listdir(sentiment_path):\n",
    "            if filename.endswith('.txt'):\n",
    "                with open(os.path.join(sentiment_path, filename), 'r', encoding='utf-8') as file:\n",
    "                    data['review'].append(file.read())\n",
    "                    data['sentiment'].append(sentiment)\n",
    "    return pd.DataFrame(data)"
   ]
  },
  {
   "cell_type": "code",
   "execution_count": 4,
   "metadata": {},
   "outputs": [],
   "source": [
    "train_data = load_data(TRAIN_PATH)\n",
    "test_data = load_data(TEST_PATH)"
   ]
  },
  {
   "cell_type": "code",
   "execution_count": 5,
   "metadata": {},
   "outputs": [
    {
     "name": "stdout",
     "output_type": "stream",
     "text": [
      "                                              review sentiment\n",
      "0  Bromwell High is a cartoon comedy. It ran at t...       pos\n",
      "1  I liked the film. Some of the action scenes we...       pos\n",
      "2  Somewhat funny and well-paced action thriller ...       pos\n",
      "3  Just two comments....SEVEN years apart? Hardly...       pos\n",
      "4  Another Aussie masterpiece, this delves into t...       pos\n",
      "\n",
      "                                              review sentiment\n",
      "0  I went and saw this movie last night after bei...       pos\n",
      "1  Actor turned director Bill Paxton follows up h...       pos\n",
      "2  As a recreational golfer with some knowledge o...       pos\n",
      "3  I saw this film in a sneak preview, and it is ...       pos\n",
      "4  Bill Paxton has taken the true story of the 19...       pos\n"
     ]
    }
   ],
   "source": [
    "print(train_data.head())\n",
    "print()\n",
    "print(test_data.head())"
   ]
  },
  {
   "cell_type": "code",
   "execution_count": 6,
   "metadata": {},
   "outputs": [
    {
     "name": "stdout",
     "output_type": "stream",
     "text": [
      "I LOVE Jack's jokes like 'The cliché is...' or \"Over the top cliché guy, black, oily skin, kinda spooky...\". He is just hilarious! Daniel's starting to catch up on him to! Good thing Jack's not on the team anymore (in a way) or else it would have been sarcasm mania!!!!I just love all the plots (season 8, a little less, I have to admit), the characters are great, the actors are great, I'm starting to pick up facial expressions (and more) from Jack, Daniel and Teal'c...It just all theoretically possible and exciting...oops! Their I go again!!! Sorry, I'm also starting to pick up traits from Carter, and all of this is driving my parents NUTZ!!!!!!! Well, to conclude, I think it's good for another three seasons or so, especially if they keep on packing the episodes with all this humor, drama, action and so forth!!!!!!!!!!!!!!!!\n"
     ]
    }
   ],
   "source": [
    "# an example review\n",
    "print(train_data.iloc[13]['review'])"
   ]
  },
  {
   "cell_type": "markdown",
   "metadata": {},
   "source": [
    "Plotting the distribution of the data to better understand it. "
   ]
  },
  {
   "cell_type": "code",
   "execution_count": 7,
   "metadata": {},
   "outputs": [
    {
     "data": {
      "image/png": "[encoded data removed]",
      "text/plain": [
       "<Figure size 1600x500 with 2 Axes>"
      ]
     },
     "metadata": {},
     "output_type": "display_data"
    }
   ],
   "source": [
    "fig, axes = plt.subplots(1, 2, figsize=(16, 5))\n",
    "colors = ['#024CAA', '#FF7F0E']\n",
    "\n",
    "sns.countplot(x='sentiment', data=train_data, ax=axes[0], palette=colors, hue='sentiment', legend=False, edgecolor='black', linewidth=2) \n",
    "sns.countplot(x='sentiment', data=test_data, ax=axes[1], palette=colors, hue='sentiment', legend=False, edgecolor='black', linewidth=2)\n",
    "plt.show()"
   ]
  },
  {
   "cell_type": "markdown",
   "metadata": {},
   "source": [
    "---"
   ]
  },
  {
   "cell_type": "markdown",
   "metadata": {},
   "source": [
    "## Step 2: BoW, Model and All"
   ]
  },
  {
   "cell_type": "code",
   "execution_count": 8,
   "metadata": {},
   "outputs": [],
   "source": [
    "from collections import defaultdict\n",
    "import re"
   ]
  },
  {
   "cell_type": "code",
   "execution_count": 9,
   "metadata": {},
   "outputs": [],
   "source": [
    "# defining stop words\n",
    "stop_words = set([\n",
    "    'the', 'is', 'and', 'in', 'to', 'of', 'a', 'i', 'it', 'that', 'on', 'for', 'with', 'as', \n",
    "    'this', 'was', 'but', 'be', 'at', 'by', 'an', 'he', 'she', 'they', 'them', 'we', 'you',\n",
    "    'are', 'from', 'or', 'not', 'if', 'have', 'has', 'had', 'my', 'your', 'his', 'her', 'its',\n",
    "    'which', 'so', 'there', 'will', 'would', 'can', 'could', 'our', 'their', 'what', 'when', \n",
    "    'where', 'who', 'how', 'just', 'about', 'more', 'up', 'out', 'into', 'no', 'than', 'some', \n",
    "    'other', 'only', 'such', 'do', 'over', 'did'\n",
    "])"
   ]
  },
  {
   "cell_type": "markdown",
   "metadata": {},
   "source": [
    "My simple tokenizer which will pass non-alphabetic characters."
   ]
  },
  {
   "cell_type": "code",
   "execution_count": 10,
   "metadata": {},
   "outputs": [],
   "source": [
    "def tokenize(text: str) -> list[str]:\n",
    "    \"\"\"\n",
    "    A simple function to tokenize a text.\n",
    "\n",
    "    :param text: A text\n",
    "    :return: A list of words\n",
    "    \"\"\"\n",
    "    text = text.lower()\n",
    "    # ignoring non-alphabetic characters\n",
    "    text = re.sub(r'[^a-z\\s]', '', text)\n",
    "    tokens = text.split()\n",
    "    tokens = [word for word in tokens if word not in stop_words]\n",
    "    return tokens"
   ]
  },
  {
   "cell_type": "markdown",
   "metadata": {},
   "source": [
    "My logic of BoW. I had so much confusion with it at first, especially after examining the LIBSVM format but I decided on this simple format."
   ]
  },
  {
   "cell_type": "code",
   "execution_count": 11,
   "metadata": {},
   "outputs": [],
   "source": [
    "def bow(data: pd.DataFrame, ngram: int=1) -> tuple[dict[str, int], dict[str, int]]:\n",
    "    \"\"\"\n",
    "    Function to create a bag of words from a list of reviews.\n",
    "\n",
    "    :param data: A pandas DataFrame with the reviews and the sentiment\n",
    "    :param ngram: The n-gram order (default=1)\n",
    "    :return: A tuple with the positive and negative dictionaries\n",
    "    \"\"\"\n",
    "    pos_dict = defaultdict(int)\n",
    "    neg_dict = defaultdict(int)\n",
    "    \n",
    "    # over reviews and sentiments\n",
    "    for _, row in data.iterrows():\n",
    "        tokens = tokenize(row['review'])\n",
    "        sentiment = row['sentiment']\n",
    "\n",
    "        # ngrams = []\n",
    "        # for i in range(len(words) - ngram + 1):\n",
    "        #     ngrams.append(tuple(words[i:i + ngram]))\n",
    "        \n",
    "        # kinda syntactic sugar to create n-grams\n",
    "        ngrams = zip(*[tokens[i:] for i in range(ngram)])  \n",
    "\n",
    "        for ngram_tuple in ngrams:\n",
    "            ngram_str = ' '.join(ngram_tuple) # join tuple to form the n-gram string\n",
    "            if sentiment == 'pos':\n",
    "                pos_dict[ngram_str] += 1\n",
    "            else:\n",
    "                neg_dict[ngram_str] += 1\n",
    "\n",
    "    return dict(pos_dict), dict(neg_dict)\n",
    "\n",
    "unigram_train_pos, unigram_train_neg = bow(train_data, ngram=1)\n",
    "bigram_train_pos, bigram_train_neg = bow(train_data, ngram=2)"
   ]
  },
  {
   "cell_type": "code",
   "execution_count": 12,
   "metadata": {},
   "outputs": [
    {
     "data": {
      "text/plain": [
       "{'bromwell': 8,\n",
       " 'high': 725,\n",
       " 'cartoon': 173,\n",
       " 'comedy': 1145,\n",
       " 'ran': 82,\n",
       " 'same': 1466,\n",
       " 'time': 4445,\n",
       " 'programs': 30,\n",
       " 'school': 526,\n",
       " 'life': 2851,\n",
       " 'teachers': 22,\n",
       " 'years': 2019,\n",
       " 'teaching': 29,\n",
       " 'profession': 28,\n",
       " 'lead': 447,\n",
       " 'me': 3707,\n",
       " 'believe': 769,\n",
       " 'highs': 9,\n",
       " 'satire': 103,\n",
       " 'much': 3404,\n",
       " 'closer': 96,\n",
       " 'reality': 426,\n",
       " 'scramble': 2,\n",
       " 'survive': 86,\n",
       " 'financially': 12,\n",
       " 'insightful': 32,\n",
       " 'students': 125,\n",
       " 'see': 4303,\n",
       " 'right': 1196,\n",
       " 'through': 1806,\n",
       " 'pathetic': 45,\n",
       " 'pomp': 4,\n",
       " 'pettiness': 2,\n",
       " 'whole': 970,\n",
       " 'situation': 256,\n",
       " 'all': 8553,\n",
       " 'remind': 62,\n",
       " 'schools': 29,\n",
       " 'knew': 345,\n",
       " 'saw': 1233,\n",
       " 'episode': 740,\n",
       " 'student': 113,\n",
       " 'repeatedly': 34,\n",
       " 'tried': 192,\n",
       " 'burn': 24,\n",
       " 'down': 1133,\n",
       " 'immediately': 174,\n",
       " 'recalled': 6,\n",
       " 'classic': 866,\n",
       " 'line': 582,\n",
       " 'inspector': 64,\n",
       " 'im': 1380,\n",
       " 'here': 1922,\n",
       " 'sack': 7,\n",
       " 'one': 9615,\n",
       " 'welcome': 94,\n",
       " 'expect': 427,\n",
       " 'many': 2793,\n",
       " 'adults': 151,\n",
       " 'age': 493,\n",
       " 'think': 2662,\n",
       " 'far': 967,\n",
       " 'fetched': 14,\n",
       " 'pity': 78,\n",
       " 'isnt': 959,\n",
       " 'liked': 656,\n",
       " 'film': 14459,\n",
       " 'action': 1206,\n",
       " 'scenes': 1739,\n",
       " 'were': 3671,\n",
       " 'very': 6056,\n",
       " 'interesting': 1063,\n",
       " 'tense': 77,\n",
       " 'well': 4094,\n",
       " 'done': 1099,\n",
       " 'especially': 1114,\n",
       " 'opening': 328,\n",
       " 'scene': 1790,\n",
       " 'semi': 4,\n",
       " 'truck': 32,\n",
       " 'seemed': 360,\n",
       " 'donebr': 34,\n",
       " 'br': 20461,\n",
       " 'transitional': 6,\n",
       " 'filmed': 280,\n",
       " 'ways': 355,\n",
       " 'lapse': 4,\n",
       " 'photography': 175,\n",
       " 'unusual': 157,\n",
       " 'colors': 91,\n",
       " 'angles': 78,\n",
       " 'also': 4065,\n",
       " 'funny': 1422,\n",
       " 'several': 539,\n",
       " 'parts': 462,\n",
       " 'evil': 472,\n",
       " 'guy': 704,\n",
       " 'portrayed': 236,\n",
       " 'too': 2561,\n",
       " 'id': 451,\n",
       " 'give': 1108,\n",
       " 'somewhat': 395,\n",
       " 'wellpaced': 8,\n",
       " 'thriller': 291,\n",
       " 'jamie': 59,\n",
       " 'foxx': 23,\n",
       " 'hapless': 23,\n",
       " 'fasttalking': 6,\n",
       " 'hoodlum': 5,\n",
       " 'chosen': 87,\n",
       " 'overly': 77,\n",
       " 'demanding': 26,\n",
       " 'us': 1730,\n",
       " 'treasury': 11,\n",
       " 'agent': 149,\n",
       " 'david': 475,\n",
       " 'morse': 27,\n",
       " 'released': 403,\n",
       " 'streets': 122,\n",
       " 'new': 1815,\n",
       " 'york': 353,\n",
       " 'find': 1614,\n",
       " 'picky': 10,\n",
       " 'computer': 124,\n",
       " 'thiefhacker': 1,\n",
       " 'doug': 15,\n",
       " 'hutchinson': 6,\n",
       " 'stole': 42,\n",
       " 'fortytwo': 1,\n",
       " 'million': 117,\n",
       " 'dollars': 49,\n",
       " 'left': 703,\n",
       " 'two': 2670,\n",
       " 'guards': 11,\n",
       " 'shot': 638,\n",
       " 'deadbr': 12,\n",
       " 'bait': 12,\n",
       " 'marks': 55,\n",
       " 'sophomore': 7,\n",
       " 'feature': 310,\n",
       " 'antoine': 6,\n",
       " 'fuqua': 2,\n",
       " 'replacement': 20,\n",
       " 'killers': 103,\n",
       " 'handles': 31,\n",
       " 'task': 70,\n",
       " 'fairly': 214,\n",
       " 'even': 3600,\n",
       " 'though': 1761,\n",
       " 'doesnt': 1432,\n",
       " 'top': 629,\n",
       " 'first': 3465,\n",
       " 'movie': 13256,\n",
       " 'films': 3130,\n",
       " 'common': 186,\n",
       " 'sequences': 256,\n",
       " 'flatout': 5,\n",
       " 'excellentbr': 22,\n",
       " 'pretty': 1083,\n",
       " 'good': 5481,\n",
       " 'although': 1082,\n",
       " 'character': 2391,\n",
       " 'annoying': 143,\n",
       " 'beginning': 548,\n",
       " 'throughout': 555,\n",
       " 'began': 133,\n",
       " 'catch': 188,\n",
       " 'marvelous': 105,\n",
       " 'mastermind': 16,\n",
       " 'ruthless': 39,\n",
       " 'john': 982,\n",
       " 'malkovich': 4,\n",
       " 'patient': 63,\n",
       " 'late': 508,\n",
       " 'laurence': 47,\n",
       " 'olivier': 52,\n",
       " 'marathon': 17,\n",
       " 'man': 2217,\n",
       " 'okay': 155,\n",
       " 'comes': 932,\n",
       " 'ingenious': 41,\n",
       " 'plan': 121,\n",
       " 'get': 3123,\n",
       " 'whoever': 42,\n",
       " 'cost': 72,\n",
       " 'commentsseven': 1,\n",
       " 'apart': 201,\n",
       " 'hardly': 174,\n",
       " 'evidence': 68,\n",
       " 'relentless': 23,\n",
       " 'pullingpower': 1,\n",
       " 'been': 3053,\n",
       " 'mentioned': 192,\n",
       " 'lowbudget': 61,\n",
       " 'telemovie': 2,\n",
       " 'status': 71,\n",
       " 'gantry': 8,\n",
       " 'row': 60,\n",
       " 'mitigating': 1,\n",
       " 'factor': 69,\n",
       " 'limited': 125,\n",
       " 'appeal': 139,\n",
       " 'having': 930,\n",
       " 'said': 711,\n",
       " 'however': 1301,\n",
       " 'thing': 1176,\n",
       " 'without': 1240,\n",
       " 'merit': 23,\n",
       " 'either': 481,\n",
       " 'entertainment': 339,\n",
       " 'fright': 20,\n",
       " 'outing': 31,\n",
       " 'per': 47,\n",
       " 'sebr': 1,\n",
       " 'true': 1024,\n",
       " 'plot': 1686,\n",
       " 'most': 3542,\n",
       " 'basic': 189,\n",
       " 'reworking': 11,\n",
       " 'amityville': 4,\n",
       " 'horror': 851,\n",
       " 'case': 538,\n",
       " 'intrigue': 46,\n",
       " 'gibney': 3,\n",
       " 'might': 922,\n",
       " 'made': 2698,\n",
       " 'worthwhile': 68,\n",
       " 'impression': 141,\n",
       " 'played': 1155,\n",
       " 'halifax': 1,\n",
       " 'investigating': 27,\n",
       " 'couple': 567,\n",
       " 'seemingly': 122,\n",
       " 'unconnected': 3,\n",
       " 'murders': 144,\n",
       " 'house': 693,\n",
       " 'main': 775,\n",
       " 'suspect': 123,\n",
       " 'script': 652,\n",
       " 'better': 1702,\n",
       " 'average': 224,\n",
       " 'production': 528,\n",
       " 'overall': 591,\n",
       " 'standard': 154,\n",
       " 'fails': 79,\n",
       " 'engage': 26,\n",
       " 'viewer': 464,\n",
       " 'particularly': 408,\n",
       " 'key': 159,\n",
       " 'momentsbr': 22,\n",
       " 'picked': 108,\n",
       " 'dvd': 910,\n",
       " 'mere': 72,\n",
       " 'last': 1123,\n",
       " 'week': 165,\n",
       " 'regular': 115,\n",
       " 'video': 464,\n",
       " 'store': 157,\n",
       " 'cannot': 348,\n",
       " 'begrudge': 1,\n",
       " 'expenditure': 1,\n",
       " 'acceptable': 29,\n",
       " 'price': 124,\n",
       " 'dont': 2397,\n",
       " 'fireworks': 14,\n",
       " 'another': 1503,\n",
       " 'aussie': 15,\n",
       " 'masterpiece': 316,\n",
       " 'delves': 12,\n",
       " 'world': 1632,\n",
       " 'unknown': 101,\n",
       " 'supernatural': 61,\n",
       " 'does': 2281,\n",
       " 'resort': 32,\n",
       " 'big': 1275,\n",
       " 'special': 726,\n",
       " 'effects': 566,\n",
       " 'overkill': 8,\n",
       " 'like': 6408,\n",
       " 'american': 844,\n",
       " 'flicks': 84,\n",
       " 'focuses': 91,\n",
       " 'emotional': 332,\n",
       " 'impact': 192,\n",
       " 'relatively': 78,\n",
       " 'simple': 531,\n",
       " 'rebecca': 9,\n",
       " 'co': 19,\n",
       " 'bring': 357,\n",
       " 'follows': 225,\n",
       " 'story': 4781,\n",
       " 'buy': 274,\n",
       " 'old': 1520,\n",
       " 'supposedly': 80,\n",
       " 'home': 754,\n",
       " 'woman': 971,\n",
       " 'never': 2288,\n",
       " 'went': 509,\n",
       " 'outside': 211,\n",
       " 'whose': 429,\n",
       " 'husband': 367,\n",
       " 'disappeared': 36,\n",
       " 'mysterious': 164,\n",
       " 'circumstances': 92,\n",
       " 'century': 226,\n",
       " 'ago': 445,\n",
       " 'strange': 324,\n",
       " 'things': 1309,\n",
       " 'begin': 224,\n",
       " 'happen': 313,\n",
       " 'adam': 118,\n",
       " 'begins': 356,\n",
       " 'turn': 457,\n",
       " 'actually': 1291,\n",
       " 'mass': 52,\n",
       " 'murderer': 74,\n",
       " 'highly': 628,\n",
       " 'recommended': 255,\n",
       " 'after': 2771,\n",
       " 'brief': 159,\n",
       " 'prologue': 9,\n",
       " 'showing': 313,\n",
       " 'masked': 15,\n",
       " 'stalking': 16,\n",
       " 'then': 2402,\n",
       " 'slashing': 4,\n",
       " 'throat': 25,\n",
       " 'older': 304,\n",
       " 'gentleman': 56,\n",
       " 'deserted': 23,\n",
       " 'urban': 103,\n",
       " 'australian': 66,\n",
       " 'street': 267,\n",
       " 'meet': 289,\n",
       " 'julie': 78,\n",
       " 'peter': 344,\n",
       " 'go': 1715,\n",
       " 'hunting': 70,\n",
       " 'manage': 74,\n",
       " 'loan': 8,\n",
       " 'fixerupper': 1,\n",
       " 'posh': 14,\n",
       " 'sydney': 22,\n",
       " 'turns': 469,\n",
       " 'physical': 139,\n",
       " 'disrepair': 1,\n",
       " 'problem': 382,\n",
       " 'may': 1470,\n",
       " 'hauntedbr': 1,\n",
       " 'combines': 34,\n",
       " 'memorable': 328,\n",
       " 'clichd': 29,\n",
       " 'direction': 442,\n",
       " 'catherine': 52,\n",
       " 'millar': 4,\n",
       " 'slightly': 217,\n",
       " 'above': 311,\n",
       " 'shockerbr': 1,\n",
       " 'biggest': 149,\n",
       " 'flaws': 147,\n",
       " 'seem': 755,\n",
       " 'partially': 25,\n",
       " 'due': 351,\n",
       " 'budget': 366,\n",
       " 'wholly': 33,\n",
       " 'excusable': 2,\n",
       " 'hurdle': 1,\n",
       " 'crucial': 42,\n",
       " 'occurs': 51,\n",
       " 'features': 273,\n",
       " 'wonky': 1,\n",
       " 'editing': 175,\n",
       " 'freeze': 11,\n",
       " 'frames': 22,\n",
       " 'series': 1553,\n",
       " 'stills': 10,\n",
       " 'used': 680,\n",
       " 'cover': 128,\n",
       " 'fact': 1220,\n",
       " 'theres': 865,\n",
       " 'suspense': 235,\n",
       " 'should': 1557,\n",
       " 'created': 223,\n",
       " 'staging': 14,\n",
       " 'fancy': 37,\n",
       " 'fix': 30,\n",
       " 'mix': 141,\n",
       " 'techniques': 58,\n",
       " 'great': 4592,\n",
       " 'atmosphere': 311,\n",
       " 'location': 114,\n",
       " 'lighting': 101,\n",
       " 'fog': 29,\n",
       " 'camera': 452,\n",
       " 'slowly': 189,\n",
       " 'following': 223,\n",
       " 'killer': 319,\n",
       " 'victim': 128,\n",
       " 'cutting': 60,\n",
       " 'back': 1837,\n",
       " 'forth': 60,\n",
       " 'track': 135,\n",
       " 'increasing': 15,\n",
       " 'proximity': 5,\n",
       " 'tracking': 35,\n",
       " 'cuts': 80,\n",
       " 'need': 619,\n",
       " 'slow': 310,\n",
       " 'attack': 132,\n",
       " 'needed': 198,\n",
       " 'longer': 179,\n",
       " 'clearer': 10,\n",
       " 'blocked': 3,\n",
       " 'stands': 174,\n",
       " 'strong': 530,\n",
       " 'television': 366,\n",
       " 'feel': 1098,\n",
       " 'low': 289,\n",
       " 'thatbr': 62,\n",
       " 'move': 245,\n",
       " 'present': 267,\n",
       " 'flow': 57,\n",
       " 'greatly': 76,\n",
       " 'improves': 17,\n",
       " 'lot': 1477,\n",
       " 'similarities': 52,\n",
       " 'forces': 121,\n",
       " 'subtler': 5,\n",
       " 'approach': 170,\n",
       " 'scriptwriter': 13,\n",
       " 'tony': 152,\n",
       " 'morphett': 2,\n",
       " 'effectively': 94,\n",
       " 'create': 219,\n",
       " 'slyly': 4,\n",
       " 'creepy': 160,\n",
       " 'scenarios': 15,\n",
       " 'often': 690,\n",
       " 'dramatic': 285,\n",
       " 'nature': 327,\n",
       " 'instead': 520,\n",
       " 'effectsoriented': 1,\n",
       " 'arrives': 77,\n",
       " 'take': 1213,\n",
       " 'away': 893,\n",
       " 'slabs': 2,\n",
       " 'iron': 28,\n",
       " 'bizarrely': 6,\n",
       " 'affixed': 2,\n",
       " 'interior': 21,\n",
       " 'wallbr': 3,\n",
       " 'fans': 545,\n",
       " 'section': 80,\n",
       " 'little': 2382,\n",
       " 'heavy': 155,\n",
       " 'realist': 5,\n",
       " 'drama': 598,\n",
       " 'least': 796,\n",
       " 'half': 463,\n",
       " 'hour': 267,\n",
       " 'primarily': 43,\n",
       " 'trying': 719,\n",
       " 'arrange': 12,\n",
       " 'financing': 4,\n",
       " 'settle': 36,\n",
       " 'writes': 31,\n",
       " 'fine': 623,\n",
       " 'intelligent': 225,\n",
       " 'dialogue': 444,\n",
       " 'material': 222,\n",
       " 'enough': 1071,\n",
       " 'suspenseful': 84,\n",
       " 'traditional': 124,\n",
       " 'aspects': 165,\n",
       " 'arise': 16,\n",
       " 'laterespecially': 1,\n",
       " 'youve': 253,\n",
       " 'gone': 265,\n",
       " 'similar': 371,\n",
       " 'travails': 3,\n",
       " 'while': 2115,\n",
       " 'own': 1490,\n",
       " 'housebr': 14,\n",
       " 'once': 911,\n",
       " 'settled': 27,\n",
       " 'weirder': 5,\n",
       " 'leave': 412,\n",
       " 'desired': 32,\n",
       " 'ideas': 178,\n",
       " 'performances': 894,\n",
       " 'help': 678,\n",
       " 'tension': 186,\n",
       " 'abundance': 16,\n",
       " 'death': 727,\n",
       " 'destruction': 53,\n",
       " 'filmtheres': 1,\n",
       " 'repair': 10,\n",
       " 'nightmares': 39,\n",
       " 'neither': 143,\n",
       " 'menace': 35,\n",
       " 'really': 4025,\n",
       " 'pointbr': 24,\n",
       " 'point': 949,\n",
       " 'human': 685,\n",
       " 'relationships': 178,\n",
       " 'number': 410,\n",
       " 'arcs': 11,\n",
       " 'exists': 62,\n",
       " 'metaphor': 34,\n",
       " 'catalyst': 9,\n",
       " 'stress': 35,\n",
       " 'romantic': 400,\n",
       " 'relationship': 447,\n",
       " 'make': 2328,\n",
       " 'sour': 17,\n",
       " 'possibly': 211,\n",
       " 'destroy': 66,\n",
       " 'neighborhood': 59,\n",
       " 'between': 1509,\n",
       " 'successful': 229,\n",
       " 'yuppies': 3,\n",
       " 'shows': 1145,\n",
       " 'these': 1977,\n",
       " 'problems': 345,\n",
       " 'afflict': 2,\n",
       " 'those': 1883,\n",
       " 'place': 893,\n",
       " 'blame': 49,\n",
       " 'external': 16,\n",
       " 'woe': 4,\n",
       " 'money': 470,\n",
       " 'health': 64,\n",
       " 'peters': 84,\n",
       " 'evolves': 16,\n",
       " 'striving': 7,\n",
       " 'corporate': 46,\n",
       " 'employee': 25,\n",
       " 'normal': 201,\n",
       " 'workbased': 1,\n",
       " 'friendships': 26,\n",
       " 'someone': 589,\n",
       " 'desperation': 45,\n",
       " 'becomes': 526,\n",
       " 'subversive': 12,\n",
       " 'scheming': 18,\n",
       " 'attain': 12,\n",
       " 'something': 1520,\n",
       " 'liberating': 8,\n",
       " 'meaningful': 56,\n",
       " 'learn': 293,\n",
       " 'shallow': 53,\n",
       " 'professional': 142,\n",
       " 'goes': 869,\n",
       " 'almost': 1122,\n",
       " 'literal': 30,\n",
       " 'nervous': 35,\n",
       " 'breakdown': 19,\n",
       " 'finally': 643,\n",
       " 'finds': 422,\n",
       " 'liberation': 10,\n",
       " 'liberates': 1,\n",
       " 'herself': 354,\n",
       " 'failing': 30,\n",
       " 'relationshipbr': 9,\n",
       " 'quite': 1523,\n",
       " 'transcends': 20,\n",
       " 'madefortelevision': 5,\n",
       " 'clunkiness': 2,\n",
       " 'tv': 962,\n",
       " 'admirable': 27,\n",
       " 'ambitions': 22,\n",
       " 'anyone': 879,\n",
       " 'fond': 42,\n",
       " 'haunted': 71,\n",
       " 'psycho': 81,\n",
       " 'horrorthrillers': 3,\n",
       " 'bit': 1269,\n",
       " 'metaphorical': 7,\n",
       " 'depth': 191,\n",
       " 'plenty': 257,\n",
       " 'enjoy': 837,\n",
       " 'certainly': 607,\n",
       " 'worth': 890,\n",
       " 'spending': 24,\n",
       " 'local': 319,\n",
       " 'pbs': 9,\n",
       " 'station': 117,\n",
       " 'asking': 67,\n",
       " 'copy': 231,\n",
       " 'showed': 200,\n",
       " 'factoring': 1,\n",
       " 'shipping': 3,\n",
       " 'handling': 29,\n",
       " 'rental': 43,\n",
       " 'definitely': 735,\n",
       " 'watching': 1422,\n",
       " 'free': 185,\n",
       " 'verhoevens': 27,\n",
       " 'utter': 41,\n",
       " 'complete': 291,\n",
       " 'garbage': 53,\n",
       " 'hes': 996,\n",
       " 'disgusting': 40,\n",
       " 'hack': 13,\n",
       " 'director': 1276,\n",
       " 'ashamed': 22,\n",
       " 'admission': 20,\n",
       " 'read': 638,\n",
       " 'chapters': 18,\n",
       " 'book': 753,\n",
       " 'got': 1182,\n",
       " 'bored': 102,\n",
       " 'decided': 200,\n",
       " 'scratchbr': 1,\n",
       " 'heinlein': 2,\n",
       " 'supported': 34,\n",
       " 'trash': 80,\n",
       " 'hed': 43,\n",
       " 'alive': 149,\n",
       " 'basically': 258,\n",
       " 'steals': 119,\n",
       " 'name': 510,\n",
       " 'mocks': 5,\n",
       " 'politics': 90,\n",
       " 'portion': 33,\n",
       " 'throws': 55,\n",
       " 'ta': 10,\n",
       " 'idiot': 32,\n",
       " 'moviegoer': 9,\n",
       " 'boredbr': 1,\n",
       " 'anime': 106,\n",
       " 'perfect': 866,\n",
       " 'mostly': 344,\n",
       " 'accurate': 140,\n",
       " 'best': 3161,\n",
       " 'tell': 550,\n",
       " 'robert': 479,\n",
       " 'heinleins': 7,\n",
       " 'novel': 359,\n",
       " 'starship': 20,\n",
       " 'troopers': 17,\n",
       " 'messed': 22,\n",
       " 'around': 1195,\n",
       " 'recent': 206,\n",
       " 'everything': 787,\n",
       " 'paul': 460,\n",
       " 'games': 134,\n",
       " 'none': 246,\n",
       " 'speak': 162,\n",
       " 'captured': 124,\n",
       " 'spirit': 203,\n",
       " 'usually': 335,\n",
       " 'unrelated': 19,\n",
       " 'spin': 49,\n",
       " 'off': 1662,\n",
       " 'less': 669,\n",
       " 'know': 2035,\n",
       " 'japan': 117,\n",
       " 'animated': 254,\n",
       " 'adaptation': 182,\n",
       " 'already': 439,\n",
       " 'year': 815,\n",
       " 'despite': 516,\n",
       " 'differences': 59,\n",
       " 'part': 1519,\n",
       " 'plotwise': 10,\n",
       " 'faithful': 92,\n",
       " 'classicbr': 16,\n",
       " 'obvious': 283,\n",
       " 'plus': 204,\n",
       " 'presence': 158,\n",
       " 'powered': 10,\n",
       " 'armor': 18,\n",
       " 'exoskeletons': 1,\n",
       " 'deprived': 5,\n",
       " 'characters': 2572,\n",
       " 'space': 224,\n",
       " 'travel': 109,\n",
       " 'fair': 140,\n",
       " 'amount': 173,\n",
       " 'each': 1194,\n",
       " 'events': 376,\n",
       " 'differently': 28,\n",
       " 'books': 205,\n",
       " 'rico': 8,\n",
       " 'carmen': 40,\n",
       " 'entanglement': 1,\n",
       " 'touched': 87,\n",
       " 'upon': 305,\n",
       " 'interaction': 40,\n",
       " 'inferior': 31,\n",
       " 'gets': 1058,\n",
       " 'treatment': 89,\n",
       " 'superior': 148,\n",
       " 'political': 283,\n",
       " 'views': 76,\n",
       " 'merely': 116,\n",
       " 'excised': 2,\n",
       " 'opposed': 46,\n",
       " 'reversed': 12,\n",
       " 'payoff': 15,\n",
       " 'climatic': 13,\n",
       " 'battle': 295,\n",
       " 'klendathu': 1,\n",
       " 'bugsaliens': 1,\n",
       " 'kind': 895,\n",
       " 'suits': 47,\n",
       " 'seen': 2430,\n",
       " 'versionbr': 17,\n",
       " 'enjoyed': 645,\n",
       " 'because': 2944,\n",
       " 'wanted': 411,\n",
       " 'vision': 143,\n",
       " 'look': 1354,\n",
       " 'ok': 207,\n",
       " 'lets': 293,\n",
       " 'clear': 270,\n",
       " 'scifi': 238,\n",
       " 'reason': 556,\n",
       " 'love': 3097,\n",
       " 'stargate': 68,\n",
       " 'sg': 54,\n",
       " 'jack': 370,\n",
       " 'oneil': 5,\n",
       " 'takes': 910,\n",
       " 'team': 354,\n",
       " 'round': 75,\n",
       " 'device': 61,\n",
       " 'creates': 122,\n",
       " 'wormhole': 2,\n",
       " 'gives': 740,\n",
       " 'ability': 168,\n",
       " 'distant': 58,\n",
       " 'worlds': 138,\n",
       " 'sound': 386,\n",
       " 'usual': 385,\n",
       " 'scifiseries': 2,\n",
       " 'set': 847,\n",
       " 'today': 506,\n",
       " 'millennium': 11,\n",
       " 'happenings': 17,\n",
       " 'relate': 134,\n",
       " 'jump': 83,\n",
       " 'any': 2231,\n",
       " 'terms': 182,\n",
       " 'names': 124,\n",
       " 'gadgets': 10,\n",
       " 'course': 948,\n",
       " 'thanks': 216,\n",
       " 'likes': 178,\n",
       " 'keep': 628,\n",
       " 'terminology': 5,\n",
       " 'nice': 803,\n",
       " 'blending': 18,\n",
       " 'humor': 545,\n",
       " 'loads': 39,\n",
       " 'youre': 588,\n",
       " 'going': 1275,\n",
       " 'use': 638,\n",
       " 'bad': 1289,\n",
       " 'ones': 475,\n",
       " 'excellent': 1198,\n",
       " 'program': 80,\n",
       " 'season': 425,\n",
       " 'since': 1110,\n",
       " 'episodes': 505,\n",
       " 'keeps': 301,\n",
       " 'getting': 524,\n",
       " 'seasons': 124,\n",
       " 'now': 1690,\n",
       " 'richard': 423,\n",
       " 'dean': 73,\n",
       " 'anderson': 74,\n",
       " 'addition': 150,\n",
       " 'ben': 250,\n",
       " 'browder': 6,\n",
       " 'claudie': 1,\n",
       " 'black': 687,\n",
       " 'still': 2418,\n",
       " 'given': 657,\n",
       " 'show': 2429,\n",
       " 'strength': 119,\n",
       " 'original': 1038,\n",
       " 'sadly': 152,\n",
       " 'channel': 106,\n",
       " 'rid': 50,\n",
       " 'amazing': 772,\n",
       " 'hope': 587,\n",
       " 'relay': 2,\n",
       " 'making': 828,\n",
       " 'direct': 127,\n",
       " 'hopefully': 77,\n",
       " 'atlantis': 59,\n",
       " 'th': 321,\n",
       " 'third': 284,\n",
       " 'works': 622,\n",
       " 'franchise': 45,\n",
       " 'nowhere': 79,\n",
       " 'near': 266,\n",
       " 'dead': 519,\n",
       " 'must': 1155,\n",
       " 'people': 3163,\n",
       " 'genres': 33,\n",
       " 'wide': 103,\n",
       " 'range': 97,\n",
       " 'ages': 130,\n",
       " 'types': 84,\n",
       " 'watch': 2430,\n",
       " 'cheesy': 149,\n",
       " 'seriesbr': 32,\n",
       " 'escaping': 24,\n",
       " 'facts': 80,\n",
       " 'try': 549,\n",
       " 'excuse': 54,\n",
       " 'yourself': 285,\n",
       " 'explain': 131,\n",
       " 'remains': 193,\n",
       " 'borrow': 16,\n",
       " 'steal': 78,\n",
       " 'briskly': 4,\n",
       " 'fx': 31,\n",
       " 'arent': 261,\n",
       " 'nearly': 299,\n",
       " 'impressive': 223,\n",
       " 'blow': 70,\n",
       " 'chair': 49,\n",
       " 'couch': 21,\n",
       " 'matter': 413,\n",
       " 'eitherbr': 24,\n",
       " 'deserves': 239,\n",
       " 'credit': 169,\n",
       " 'every': 1427,\n",
       " 'stolen': 65,\n",
       " 'idea': 511,\n",
       " 'count': 101,\n",
       " 'thats': 1072,\n",
       " 'worse': 151,\n",
       " 'episodebr': 15,\n",
       " 'probably': 1040,\n",
       " 'minutes': 586,\n",
       " 'long': 1148,\n",
       " 'moviesbr': 42,\n",
       " 'being': 2357,\n",
       " 'able': 517,\n",
       " 'quality': 424,\n",
       " 'delivering': 28,\n",
       " 'pushing': 63,\n",
       " 'storyline': 265,\n",
       " 'further': 214,\n",
       " 'makes': 1761,\n",
       " 'specialbr': 4,\n",
       " 'am': 955,\n",
       " 'selections': 8,\n",
       " 'follow': 290,\n",
       " 'perhaps': 642,\n",
       " 'hold': 189,\n",
       " 'standards': 125,\n",
       " 'surprised': 350,\n",
       " 'found': 964,\n",
       " 'myself': 370,\n",
       " 'caughtbr': 1,\n",
       " 'decide': 140,\n",
       " 'brush': 14,\n",
       " 'yet': 1151,\n",
       " 'tacky': 14,\n",
       " 'stick': 104,\n",
       " 'youll': 485,\n",
       " 'talking': 262,\n",
       " 'scott': 229,\n",
       " 'bartletts': 2,\n",
       " 'offon': 4,\n",
       " 'nine': 66,\n",
       " 'pure': 236,\n",
       " 'craziness': 13,\n",
       " 'fullfrontal': 6,\n",
       " 'assault': 24,\n",
       " 'psychedelic': 16,\n",
       " 'pulsating': 6,\n",
       " 'epilepsyinducing': 1,\n",
       " 'flashing': 14,\n",
       " 'lights': 79,\n",
       " 'colours': 32,\n",
       " 'merging': 7,\n",
       " 'avantegarde': 1,\n",
       " 'cinema': 598,\n",
       " 'bartlett': 2,\n",
       " 'uses': 242,\n",
       " 'images': 228,\n",
       " 'face': 595,\n",
       " 'form': 318,\n",
       " 'provoke': 12,\n",
       " 'sequence': 340,\n",
       " 'reactions': 55,\n",
       " 'integrating': 4,\n",
       " 'biological': 11,\n",
       " 'phenomena': 6,\n",
       " 'highlyindustrial': 1,\n",
       " 'modern': 391,\n",
       " 'technology': 105,\n",
       " 'sense': 754,\n",
       " 'represents': 55,\n",
       " 'humanity': 124,\n",
       " 'tools': 14,\n",
       " 'machinery': 13,\n",
       " 'theme': 325,\n",
       " 'connects': 20,\n",
       " 'loosely': 35,\n",
       " 'subplot': 59,\n",
       " 'hal': 59,\n",
       " 'stanley': 93,\n",
       " 'kubricks': 32,\n",
       " 'odyssey': 38,\n",
       " 'indeed': 298,\n",
       " 'before': 1521,\n",
       " 'closeup': 32,\n",
       " 'eye': 250,\n",
       " 'recalls': 16,\n",
       " 'dave': 43,\n",
       " 'bowmans': 1,\n",
       " 'journey': 259,\n",
       " 'visuals': 111,\n",
       " 'richlycoloured': 1,\n",
       " 'confronting': 10,\n",
       " 'blend': 64,\n",
       " 'sharp': 86,\n",
       " 'vivid': 64,\n",
       " 'increasinglygrainy': 1,\n",
       " 'sitting': 121,\n",
       " 'close': 408,\n",
       " 'screen': 836,\n",
       " 'end': 1905,\n",
       " 'product': 68,\n",
       " 'recorded': 44,\n",
       " 'monitorbr': 1,\n",
       " 'appears': 286,\n",
       " 'confusion': 53,\n",
       " 'release': 348,\n",
       " 'date': 144,\n",
       " 'imdb': 170,\n",
       " 'lists': 15,\n",
       " 'both': 1647,\n",
       " 'national': 95,\n",
       " 'registry': 1,\n",
       " 'preservation': 7,\n",
       " 'foundation': 23,\n",
       " 'correct': 72,\n",
       " 'disparity': 5,\n",
       " 'reflects': 42,\n",
       " 'completion': 4,\n",
       " 'public': 206,\n",
       " 'screening': 67,\n",
       " 'way': 2840,\n",
       " 'distinctly': 19,\n",
       " 'ahead': 154,\n",
       " 'occasionally': 104,\n",
       " 'reminiscent': 79,\n",
       " 's': 1598,\n",
       " 'music': 1249,\n",
       " 'brisk': 13,\n",
       " 'techno': 4,\n",
       " 'wouldnt': 271,\n",
       " 'amiss': 1,\n",
       " 'captures': 148,\n",
       " 'grainy': 19,\n",
       " 'fragmented': 7,\n",
       " 'presenting': 28,\n",
       " 'warped': 13,\n",
       " 'perspective': 118,\n",
       " 'processing': 4,\n",
       " 'information': 150,\n",
       " 'thought': 1136,\n",
       " 'please': 255,\n",
       " 'laugh': 415,\n",
       " 'freethinking': 1,\n",
       " 'interpretation': 85,\n",
       " 'extraterrestrial': 4,\n",
       " 'civilisation': 3,\n",
       " 'capturing': 41,\n",
       " 'earths': 9,\n",
       " 'signals': 5,\n",
       " 'receive': 48,\n",
       " 'disjointed': 14,\n",
       " 'alien': 93,\n",
       " 'documentation': 7,\n",
       " 'bizarre': 150,\n",
       " 'montage': 44,\n",
       " 'vaguelyfamiliar': 1,\n",
       " 'imagery': 74,\n",
       " 'couldnt': 346,\n",
       " 'coherent': 17,\n",
       " 'mankind': 31,\n",
       " 'eventually': 283,\n",
       " 'heading': 20,\n",
       " 'towards': 254,\n",
       " 'irreversible': 5,\n",
       " 'purity': 12,\n",
       " 'artificiality': 4,\n",
       " 'showbr': 42,\n",
       " 'repeat': 49,\n",
       " 'huge': 317,\n",
       " ...}"
      ]
     },
     "execution_count": 12,
     "metadata": {},
     "output_type": "execute_result"
    }
   ],
   "source": [
    "unigram_train_pos"
   ]
  },
  {
   "cell_type": "markdown",
   "metadata": {},
   "source": [
    "While developing the model, this mathematical model was used:\n",
    "\n",
    "$$\n",
    "\\hat{\\theta}_i = \\frac{x_i + \\alpha}{N + \\alpha d} \\qquad (i = 1, ..., d)\n",
    "$$"
   ]
  },
  {
   "cell_type": "markdown",
   "metadata": {},
   "source": [
    "And the logic is quite simple. To predict a review as positive, it must have a greater probability of being positive than being negative. That's what the Naive Bayes does. In my implementation ngram and alpha are adjustable for experimenting purposes. \n",
    "\n",
    "fit() function fits the data as BoW to the model. Actually this was not my original idea but since you asked us to prepare BoWs before the model I came up with this format.\n",
    "\n",
    "predict() function does the prediction for all reviews and returns predictions."
   ]
  },
  {
   "cell_type": "code",
   "execution_count": 13,
   "metadata": {},
   "outputs": [],
   "source": [
    "import math\n",
    "from sklearn.metrics import accuracy_score, precision_score, recall_score, f1_score"
   ]
  },
  {
   "cell_type": "code",
   "execution_count": 14,
   "metadata": {},
   "outputs": [],
   "source": [
    "class NaiveBayesClassifier:\n",
    "    def __init__(self, ngram: int=1, alpha: int=1):\n",
    "        self.ngram = ngram\n",
    "        self.pos_dict = defaultdict(int)\n",
    "        self.neg_dict = defaultdict(int)\n",
    "        self.pos_total_count = 0\n",
    "        self.neg_total_count = 0\n",
    "        self.vocab = set()\n",
    "        self.predictions = []\n",
    "        self.alpha = alpha  \n",
    "    \n",
    "    def fit(self, pos_dict: dict[str, int], neg_dict: dict[str, int]) -> None:\n",
    "        \"\"\"\n",
    "        Trains the model with the positive and negative BoW dictionaries.\n",
    "\n",
    "        :param pos_dict: Dictionary for positive sentiment n-grams\n",
    "        :param neg_dict: Dictionary for negative sentiment n-grams\n",
    "        \"\"\"\n",
    "        self.pos_dict = pos_dict\n",
    "        self.neg_dict = neg_dict\n",
    "        \n",
    "        self.pos_total_count = sum(self.pos_dict.values())\n",
    "        self.neg_total_count = sum(self.neg_dict.values())\n",
    "        self.vocab = set(self.pos_dict.keys()).union(set(self.neg_dict.keys()))\n",
    "    \n",
    "    def predict(self, reviews: pd.DataFrame) -> list[str]:\n",
    "        \"\"\"\n",
    "        Predicts sentiment for reviews.\n",
    "\n",
    "        :param reviews: Reviews\n",
    "        :return: Predictions\n",
    "        \"\"\"\n",
    "        self.predictions = []\n",
    "\n",
    "        for _, row  in reviews.iterrows():\n",
    "            tokens = tokenize(row['review'])\n",
    "            ngrams = zip(*[tokens[i:] for i in range(self.ngram)])\n",
    "\n",
    "            pos_log_prob = 0.0\n",
    "            neg_log_prob = 0.0\n",
    "\n",
    "            # variables for Laplace (additive) smoothing\n",
    "            alpha = self.alpha\n",
    "            v_size = len(self.vocab)  \n",
    "\n",
    "            for ngram_tuple in ngrams:\n",
    "                ngram_str = ' '.join(ngram_tuple)\n",
    "\n",
    "                # Laplace smoothing\n",
    "                pos_prob = math.log((self.pos_dict.get(ngram_str, 0) + alpha) / (self.pos_total_count + alpha * v_size))\n",
    "                pos_log_prob += pos_prob # taking advantage of the log properties\n",
    "\n",
    "                # Laplace smoothing again\n",
    "                neg_prob = math.log((self.neg_dict.get(ngram_str, 0) + alpha) / (self.neg_total_count + alpha * v_size))\n",
    "                neg_log_prob += neg_prob # taking advantage of the log properties again\n",
    "\n",
    "            self.predictions.append('pos' if pos_log_prob > neg_log_prob else 'neg')\n",
    "    \n",
    "        return self.predictions"
   ]
  },
  {
   "cell_type": "code",
   "execution_count": 15,
   "metadata": {},
   "outputs": [],
   "source": [
    "def evaluate(y_true: list[str], y_pred: list[str]) -> None:\n",
    "    \"\"\"\n",
    "    Evaluates the model using accuracy, precision, recall and F1 score.\n",
    "\n",
    "    :param y_true: True labels\n",
    "    :param y_pred: Predicted labels\n",
    "    \"\"\"\n",
    "    accuracy = accuracy_score(y_true, y_pred)\n",
    "    precision = precision_score(y_true, y_pred, pos_label='pos')\n",
    "    recall = recall_score(y_true, y_pred, pos_label='pos')\n",
    "    f1 = f1_score(y_true, y_pred, pos_label='pos')\n",
    "    \n",
    "    print(f'Accuracy: {accuracy:.4f}')\n",
    "    print(f'Precision: {precision:.4f}')\n",
    "    print(f'Recall: {recall:.4f}')\n",
    "    print(f'F1 Score: {f1:.4f}')"
   ]
  },
  {
   "cell_type": "markdown",
   "metadata": {},
   "source": [
    "---"
   ]
  },
  {
   "cell_type": "markdown",
   "metadata": {},
   "source": [
    "## Step 3: Model Testing"
   ]
  },
  {
   "cell_type": "markdown",
   "metadata": {},
   "source": [
    "First, testing unigram and bigram that we have already prepared."
   ]
  },
  {
   "cell_type": "code",
   "execution_count": 16,
   "metadata": {},
   "outputs": [
    {
     "name": "stdout",
     "output_type": "stream",
     "text": [
      "Accuracy: 0.8139\n",
      "Precision: 0.8765\n",
      "Recall: 0.7307\n",
      "F1 Score: 0.7970\n"
     ]
    }
   ],
   "source": [
    "# unigram\n",
    "classifier = NaiveBayesClassifier(ngram=1)\n",
    "classifier.fit(unigram_train_pos, unigram_train_neg)\n",
    "predictions = classifier.predict(test_data)\n",
    "evaluate(test_data['sentiment'], predictions)"
   ]
  },
  {
   "cell_type": "code",
   "execution_count": 17,
   "metadata": {},
   "outputs": [
    {
     "name": "stdout",
     "output_type": "stream",
     "text": [
      "Accuracy: 0.8362\n",
      "Precision: 0.8404\n",
      "Recall: 0.8302\n",
      "F1 Score: 0.8352\n"
     ]
    }
   ],
   "source": [
    "# bigram\n",
    "classifier = NaiveBayesClassifier(ngram=2)\n",
    "classifier.fit(bigram_train_pos, bigram_train_neg)\n",
    "predictions = classifier.predict(test_data)\n",
    "evaluate(test_data['sentiment'], predictions)"
   ]
  },
  {
   "cell_type": "markdown",
   "metadata": {},
   "source": [
    "Now for experimental purposes, I want to do also 3, 4, and 5-grams."
   ]
  },
  {
   "cell_type": "code",
   "execution_count": 18,
   "metadata": {},
   "outputs": [],
   "source": [
    "trigram_train_pos, trigram_train_neg = bow(train_data, ngram=3)\n",
    "quadgram_train_pos, quadgram_train_neg = bow(train_data, ngram=4)\n",
    "pentagram_train_pos, pentagram_train_neg = bow(train_data, ngram=5)"
   ]
  },
  {
   "cell_type": "code",
   "execution_count": 19,
   "metadata": {},
   "outputs": [
    {
     "name": "stdout",
     "output_type": "stream",
     "text": [
      "Accuracy: 0.5904\n",
      "Precision: 0.5501\n",
      "Recall: 0.9930\n",
      "F1 Score: 0.7080\n"
     ]
    }
   ],
   "source": [
    "# trigram\n",
    "classifier = NaiveBayesClassifier(ngram=3)\n",
    "classifier.fit(trigram_train_pos, trigram_train_neg)\n",
    "predictions = classifier.predict(test_data)\n",
    "evaluate(test_data['sentiment'], predictions)"
   ]
  },
  {
   "cell_type": "code",
   "execution_count": 20,
   "metadata": {},
   "outputs": [
    {
     "name": "stdout",
     "output_type": "stream",
     "text": [
      "Accuracy: 0.5142\n",
      "Precision: 0.5072\n",
      "Recall: 0.9996\n",
      "F1 Score: 0.6729\n"
     ]
    }
   ],
   "source": [
    "# quadgram\n",
    "classifier = NaiveBayesClassifier(ngram=4)\n",
    "classifier.fit(quadgram_train_pos, quadgram_train_neg)\n",
    "predictions = classifier.predict(test_data)\n",
    "evaluate(test_data['sentiment'], predictions)"
   ]
  },
  {
   "cell_type": "code",
   "execution_count": 21,
   "metadata": {},
   "outputs": [
    {
     "name": "stdout",
     "output_type": "stream",
     "text": [
      "Accuracy: 0.5061\n",
      "Precision: 0.5031\n",
      "Recall: 1.0000\n",
      "F1 Score: 0.6694\n"
     ]
    }
   ],
   "source": [
    "# pentagram\n",
    "classifier = NaiveBayesClassifier(ngram=5)\n",
    "classifier.fit(pentagram_train_pos, pentagram_train_neg)\n",
    "predictions = classifier.predict(test_data)\n",
    "evaluate(test_data['sentiment'], predictions)"
   ]
  },
  {
   "cell_type": "markdown",
   "metadata": {},
   "source": [
    "Results are quite varying. Now I want to test the effect of the alpha value, so I should choose one gram to move on. Judging from the F1 Scores, bigram looks the best to me. For alpha values, I will be trying 0.5, 2, and 5."
   ]
  },
  {
   "cell_type": "code",
   "execution_count": 22,
   "metadata": {},
   "outputs": [
    {
     "name": "stdout",
     "output_type": "stream",
     "text": [
      "Accuracy: 0.8312\n",
      "Precision: 0.8065\n",
      "Recall: 0.8715\n",
      "F1 Score: 0.8377\n"
     ]
    }
   ],
   "source": [
    "# alpha = 0.5\n",
    "classifier = NaiveBayesClassifier(ngram=2, alpha=0.5)\n",
    "classifier.fit(bigram_train_pos, bigram_train_neg)\n",
    "predictions = classifier.predict(test_data)\n",
    "evaluate(test_data['sentiment'], predictions)"
   ]
  },
  {
   "cell_type": "code",
   "execution_count": 23,
   "metadata": {},
   "outputs": [
    {
     "name": "stdout",
     "output_type": "stream",
     "text": [
      "Accuracy: 0.8255\n",
      "Precision: 0.8816\n",
      "Recall: 0.7520\n",
      "F1 Score: 0.8117\n"
     ]
    }
   ],
   "source": [
    "# alpha = 2\n",
    "classifier = NaiveBayesClassifier(ngram=2, alpha=2)\n",
    "classifier.fit(bigram_train_pos, bigram_train_neg)\n",
    "predictions = classifier.predict(test_data)\n",
    "evaluate(test_data['sentiment'], predictions)"
   ]
  },
  {
   "cell_type": "code",
   "execution_count": 24,
   "metadata": {},
   "outputs": [
    {
     "name": "stdout",
     "output_type": "stream",
     "text": [
      "Accuracy: 0.7773\n",
      "Precision: 0.9226\n",
      "Recall: 0.6054\n",
      "F1 Score: 0.7311\n"
     ]
    }
   ],
   "source": [
    "# alpha = 5\n",
    "classifier = NaiveBayesClassifier(ngram=2, alpha=5)\n",
    "classifier.fit(bigram_train_pos, bigram_train_neg)\n",
    "predictions = classifier.predict(test_data)\n",
    "evaluate(test_data['sentiment'], predictions)"
   ]
  },
  {
   "cell_type": "markdown",
   "metadata": {},
   "source": [
    "It looks like a smaller alpha value gave a better result. This might be caused because the effect of smoothing being not really needed for this data and implementation. For testing purposes I will be trying an even lower alpha value:"
   ]
  },
  {
   "cell_type": "code",
   "execution_count": 25,
   "metadata": {},
   "outputs": [
    {
     "name": "stdout",
     "output_type": "stream",
     "text": [
      "Accuracy: 0.8049\n",
      "Precision: 0.8156\n",
      "Recall: 0.7880\n",
      "F1 Score: 0.8016\n"
     ]
    }
   ],
   "source": [
    "# alpha = 0.01\n",
    "classifier = NaiveBayesClassifier(ngram=2, alpha=0.01)\n",
    "classifier.fit(bigram_train_pos, bigram_train_neg)\n",
    "predictions = classifier.predict(test_data)\n",
    "evaluate(test_data['sentiment'], predictions)"
   ]
  },
  {
   "cell_type": "markdown",
   "metadata": {},
   "source": [
    "Until now, the best overall performing model is bigram with alpha=1 in my opinion."
   ]
  },
  {
   "cell_type": "markdown",
   "metadata": {},
   "source": [
    "---"
   ]
  },
  {
   "cell_type": "markdown",
   "metadata": {},
   "source": [
    "## Bonus"
   ]
  },
  {
   "cell_type": "code",
   "execution_count": null,
   "metadata": {},
   "outputs": [],
   "source": [
    "%pip install gensim\n",
    "%pip install numpy"
   ]
  },
  {
   "cell_type": "markdown",
   "metadata": {},
   "source": [
    "First, let's try Word2Vec."
   ]
  },
  {
   "cell_type": "code",
   "execution_count": 26,
   "metadata": {},
   "outputs": [],
   "source": [
    "from gensim.models import Word2Vec\n",
    "import numpy as np"
   ]
  },
  {
   "cell_type": "code",
   "execution_count": 27,
   "metadata": {},
   "outputs": [],
   "source": [
    "train_tokens = []\n",
    "\n",
    "for _, row in train_data.iterrows():\n",
    "    tokens = tokenize(row['review'])\n",
    "    train_tokens.append(tokens)"
   ]
  },
  {
   "cell_type": "code",
   "execution_count": 28,
   "metadata": {},
   "outputs": [],
   "source": [
    "word2vec = Word2Vec(sentences=train_tokens, vector_size=100, window=5, min_count=1, workers=8)"
   ]
  },
  {
   "cell_type": "code",
   "execution_count": 29,
   "metadata": {},
   "outputs": [],
   "source": [
    "def get_review_embedding(review: str, word2vec_model: Word2Vec) -> np.ndarray:\n",
    "    \"\"\"\n",
    "    Function to get the review embedding.\n",
    "\n",
    "    :param review: A review\n",
    "    :param word2vec_model: A Word2Vec model\n",
    "    :return: The review embedding\n",
    "    \"\"\"\n",
    "    tokens = tokenize(review)\n",
    "    embeddings = [word2vec_model.wv[word] for word in tokens if word in word2vec_model.wv]\n",
    "    if embeddings:\n",
    "        return np.mean(embeddings, axis=0)\n",
    "    else:\n",
    "        return np.zeros(word2vec_model.vector_size)"
   ]
  },
  {
   "cell_type": "code",
   "execution_count": 30,
   "metadata": {},
   "outputs": [],
   "source": [
    "X_train = np.array([get_review_embedding(review, word2vec) for review in train_data['review']])\n",
    "X_test = np.array([get_review_embedding(review, word2vec) for review in test_data['review']])"
   ]
  },
  {
   "cell_type": "code",
   "execution_count": 31,
   "metadata": {},
   "outputs": [],
   "source": [
    "y_train = train_data['sentiment']\n",
    "y_test = test_data['sentiment']"
   ]
  },
  {
   "cell_type": "code",
   "execution_count": 32,
   "metadata": {},
   "outputs": [],
   "source": [
    "from sklearn.linear_model import LogisticRegression"
   ]
  },
  {
   "cell_type": "code",
   "execution_count": 33,
   "metadata": {},
   "outputs": [
    {
     "name": "stdout",
     "output_type": "stream",
     "text": [
      "Accuracy: 0.7995\n",
      "Precision: 0.8315\n",
      "Recall: 0.7513\n",
      "F1 Score: 0.7894\n"
     ]
    }
   ],
   "source": [
    "lr = LogisticRegression(max_iter=1000)\n",
    "lr.fit(X_train, y_train)\n",
    "\n",
    "y_pred = lr.predict(X_test)\n",
    "evaluate(y_test, y_pred)"
   ]
  },
  {
   "cell_type": "markdown",
   "metadata": {},
   "source": [
    "Now let's play around with the parameters a bit. Let's try a larger vector size."
   ]
  },
  {
   "cell_type": "code",
   "execution_count": 34,
   "metadata": {},
   "outputs": [],
   "source": [
    "word2vec = Word2Vec(sentences=train_tokens, vector_size=300, window=5, min_count=1, workers=8)"
   ]
  },
  {
   "cell_type": "code",
   "execution_count": 35,
   "metadata": {},
   "outputs": [],
   "source": [
    "X_train = np.array([get_review_embedding(review, word2vec) for review in train_data['review']])\n",
    "X_test = np.array([get_review_embedding(review, word2vec) for review in test_data['review']])"
   ]
  },
  {
   "cell_type": "code",
   "execution_count": 36,
   "metadata": {},
   "outputs": [
    {
     "name": "stdout",
     "output_type": "stream",
     "text": [
      "Accuracy: 0.8023\n",
      "Precision: 0.8334\n",
      "Recall: 0.7557\n",
      "F1 Score: 0.7926\n"
     ]
    }
   ],
   "source": [
    "lr = LogisticRegression(max_iter=1000)\n",
    "lr.fit(X_train, y_train)\n",
    "\n",
    "y_pred = lr.predict(X_test)\n",
    "evaluate(y_test, y_pred)"
   ]
  },
  {
   "cell_type": "markdown",
   "metadata": {},
   "source": [
    "Hmm, we get slightly better results. Now let's change the window parameter. From what I learned, this window parameter is a range value for the distance between the words for each word. Let's decrease it a bit."
   ]
  },
  {
   "cell_type": "code",
   "execution_count": 37,
   "metadata": {},
   "outputs": [],
   "source": [
    "word2vec = Word2Vec(sentences=train_tokens, vector_size=300, window=3, min_count=1, workers=8)"
   ]
  },
  {
   "cell_type": "code",
   "execution_count": 38,
   "metadata": {},
   "outputs": [],
   "source": [
    "X_train = np.array([get_review_embedding(review, word2vec) for review in train_data['review']])\n",
    "X_test = np.array([get_review_embedding(review, word2vec) for review in test_data['review']])"
   ]
  },
  {
   "cell_type": "code",
   "execution_count": 39,
   "metadata": {},
   "outputs": [
    {
     "name": "stdout",
     "output_type": "stream",
     "text": [
      "Accuracy: 0.7962\n",
      "Precision: 0.8300\n",
      "Recall: 0.7450\n",
      "F1 Score: 0.7852\n"
     ]
    }
   ],
   "source": [
    "lr = LogisticRegression(max_iter=1000)\n",
    "lr.fit(X_train, y_train)\n",
    "\n",
    "y_pred = lr.predict(X_test)\n",
    "evaluate(y_test, y_pred)"
   ]
  },
  {
   "cell_type": "markdown",
   "metadata": {},
   "source": [
    "Maybe we should increase it a bit?"
   ]
  },
  {
   "cell_type": "code",
   "execution_count": 40,
   "metadata": {},
   "outputs": [],
   "source": [
    "word2vec = Word2Vec(sentences=train_tokens, vector_size=300, window=7, min_count=1, workers=8)"
   ]
  },
  {
   "cell_type": "code",
   "execution_count": 41,
   "metadata": {},
   "outputs": [],
   "source": [
    "X_train = np.array([get_review_embedding(review, word2vec) for review in train_data['review']])\n",
    "X_test = np.array([get_review_embedding(review, word2vec) for review in test_data['review']])"
   ]
  },
  {
   "cell_type": "code",
   "execution_count": 42,
   "metadata": {},
   "outputs": [
    {
     "name": "stdout",
     "output_type": "stream",
     "text": [
      "Accuracy: 0.8026\n",
      "Precision: 0.8327\n",
      "Recall: 0.7574\n",
      "F1 Score: 0.7933\n"
     ]
    }
   ],
   "source": [
    "lr = LogisticRegression(max_iter=1000)\n",
    "lr.fit(X_train, y_train)\n",
    "\n",
    "y_pred = lr.predict(X_test)\n",
    "evaluate(y_test, y_pred)"
   ]
  },
  {
   "cell_type": "markdown",
   "metadata": {},
   "source": [
    "Hmm, let's try an extreme value just for kicks, maybe something unexpected will happen?"
   ]
  },
  {
   "cell_type": "code",
   "execution_count": 43,
   "metadata": {},
   "outputs": [],
   "source": [
    "word2vec = Word2Vec(sentences=train_tokens, vector_size=300, window=12, min_count=1, workers=8)"
   ]
  },
  {
   "cell_type": "code",
   "execution_count": 44,
   "metadata": {},
   "outputs": [],
   "source": [
    "X_train = np.array([get_review_embedding(review, word2vec) for review in train_data['review']])\n",
    "X_test = np.array([get_review_embedding(review, word2vec) for review in test_data['review']])"
   ]
  },
  {
   "cell_type": "code",
   "execution_count": 45,
   "metadata": {},
   "outputs": [
    {
     "name": "stdout",
     "output_type": "stream",
     "text": [
      "Accuracy: 0.8103\n",
      "Precision: 0.8402\n",
      "Recall: 0.7662\n",
      "F1 Score: 0.8015\n"
     ]
    }
   ],
   "source": [
    "lr = LogisticRegression(max_iter=1000)\n",
    "lr.fit(X_train, y_train)\n",
    "\n",
    "y_pred = lr.predict(X_test)\n",
    "evaluate(y_test, y_pred)"
   ]
  },
  {
   "cell_type": "markdown",
   "metadata": {},
   "source": [
    "Mixed comments :) Now let's use a bigger variety of parameters. Window size 5 will be chosen from now on."
   ]
  },
  {
   "cell_type": "code",
   "execution_count": 46,
   "metadata": {},
   "outputs": [],
   "source": [
    "word2vec_model = Word2Vec(sentences=train_tokens, vector_size=300, window=5, min_count=3, workers=8, sg=1, epochs=10)"
   ]
  },
  {
   "cell_type": "code",
   "execution_count": 47,
   "metadata": {},
   "outputs": [],
   "source": [
    "X_train = np.array([get_review_embedding(review, word2vec) for review in train_data['review']])\n",
    "X_test = np.array([get_review_embedding(review, word2vec) for review in test_data['review']])"
   ]
  },
  {
   "cell_type": "code",
   "execution_count": 48,
   "metadata": {},
   "outputs": [
    {
     "name": "stdout",
     "output_type": "stream",
     "text": [
      "Accuracy: 0.8103\n",
      "Precision: 0.8402\n",
      "Recall: 0.7662\n",
      "F1 Score: 0.8015\n"
     ]
    }
   ],
   "source": [
    "lr = LogisticRegression(max_iter=1000)\n",
    "lr.fit(X_train, y_train)\n",
    "\n",
    "y_pred = lr.predict(X_test)\n",
    "evaluate(y_test, y_pred)"
   ]
  },
  {
   "cell_type": "markdown",
   "metadata": {},
   "source": [
    "So far we got the best performance from the most unexpected model (the one I used an \"extreme\" window value). So, let's just squeeze it really good :)"
   ]
  },
  {
   "cell_type": "code",
   "execution_count": 49,
   "metadata": {},
   "outputs": [],
   "source": [
    "word2vec = Word2Vec(sentences=train_tokens, vector_size=300, window=20, min_count=1, workers=8)"
   ]
  },
  {
   "cell_type": "code",
   "execution_count": 50,
   "metadata": {},
   "outputs": [],
   "source": [
    "X_train = np.array([get_review_embedding(review, word2vec) for review in train_data['review']])\n",
    "X_test = np.array([get_review_embedding(review, word2vec) for review in test_data['review']])"
   ]
  },
  {
   "cell_type": "code",
   "execution_count": 51,
   "metadata": {},
   "outputs": [
    {
     "name": "stdout",
     "output_type": "stream",
     "text": [
      "Accuracy: 0.8087\n",
      "Precision: 0.8379\n",
      "Recall: 0.7656\n",
      "F1 Score: 0.8001\n"
     ]
    }
   ],
   "source": [
    "lr = LogisticRegression(max_iter=1000)\n",
    "lr.fit(X_train, y_train)\n",
    "\n",
    "y_pred = lr.predict(X_test)\n",
    "evaluate(y_test, y_pred)"
   ]
  },
  {
   "cell_type": "markdown",
   "metadata": {},
   "source": [
    "Looks like it just keeps getting better as the window increases. I can think of only one explanation for this matter: Reviews are generally quite lengthy and the sentiments may be spanned on multiple words, causing a long window. So, let's test it with an even greater value."
   ]
  },
  {
   "cell_type": "code",
   "execution_count": 52,
   "metadata": {},
   "outputs": [],
   "source": [
    "word2vec = Word2Vec(sentences=train_tokens, vector_size=300, window=50, min_count=1, workers=8)"
   ]
  },
  {
   "cell_type": "code",
   "execution_count": 53,
   "metadata": {},
   "outputs": [],
   "source": [
    "X_train = np.array([get_review_embedding(review, word2vec) for review in train_data['review']])\n",
    "X_test = np.array([get_review_embedding(review, word2vec) for review in test_data['review']])"
   ]
  },
  {
   "cell_type": "code",
   "execution_count": 54,
   "metadata": {},
   "outputs": [
    {
     "name": "stdout",
     "output_type": "stream",
     "text": [
      "Accuracy: 0.8143\n",
      "Precision: 0.8431\n",
      "Recall: 0.7724\n",
      "F1 Score: 0.8062\n"
     ]
    }
   ],
   "source": [
    "lr = LogisticRegression(max_iter=1000)\n",
    "lr.fit(X_train, y_train)\n",
    "\n",
    "y_pred = lr.predict(X_test)\n",
    "evaluate(y_test, y_pred)"
   ]
  },
  {
   "cell_type": "markdown",
   "metadata": {},
   "source": [
    "I'm no expert but I see this as an absolute win!"
   ]
  },
  {
   "cell_type": "markdown",
   "metadata": {},
   "source": [
    "### Now let's use NLTK and see what's the deal with this magical toolkit."
   ]
  },
  {
   "cell_type": "code",
   "execution_count": null,
   "metadata": {},
   "outputs": [],
   "source": [
    "%pip install nltk"
   ]
  },
  {
   "cell_type": "code",
   "execution_count": 55,
   "metadata": {},
   "outputs": [],
   "source": [
    "import nltk\n",
    "from nltk.corpus import stopwords\n",
    "from nltk.tokenize import word_tokenize\n",
    "from nltk.util import ngrams"
   ]
  },
  {
   "cell_type": "code",
   "execution_count": 56,
   "metadata": {},
   "outputs": [
    {
     "name": "stderr",
     "output_type": "stream",
     "text": [
      "[nltk_data] Downloading package punkt to\n",
      "[nltk_data]     C:\\Users\\Bora\\AppData\\Roaming\\nltk_data...\n",
      "[nltk_data]   Package punkt is already up-to-date!\n",
      "[nltk_data] Downloading package stopwords to\n",
      "[nltk_data]     C:\\Users\\Bora\\AppData\\Roaming\\nltk_data...\n",
      "[nltk_data]   Package stopwords is already up-to-date!\n"
     ]
    },
    {
     "data": {
      "text/plain": [
       "True"
      ]
     },
     "execution_count": 56,
     "metadata": {},
     "output_type": "execute_result"
    }
   ],
   "source": [
    "nltk.download('punkt')\n",
    "nltk.download('stopwords')"
   ]
  },
  {
   "cell_type": "code",
   "execution_count": 57,
   "metadata": {},
   "outputs": [],
   "source": [
    "nltk_stop_words = set(stopwords.words('english'))"
   ]
  },
  {
   "cell_type": "markdown",
   "metadata": {},
   "source": [
    "Now some small changes must be made on the tokenizer, BoW and Classifier to use them with NLTK."
   ]
  },
  {
   "cell_type": "code",
   "execution_count": 58,
   "metadata": {},
   "outputs": [],
   "source": [
    "def tokenize_nltk(text: str) -> list[str]:\n",
    "    \"\"\"\n",
    "    Tokenizes text using NLTK, converts to lowercase, removes non-alphabetic characters,\n",
    "    and removes stop words.\n",
    "\n",
    "    :param text: A text string to be tokenized\n",
    "    :return: A list of tokens\n",
    "    \"\"\"\n",
    "    text = text.lower()\n",
    "    # NLTK tokenizer\n",
    "    tokens = word_tokenize(text)\n",
    "    tokens = [word for word in tokens if word.isalpha() and word not in nltk_stop_words]\n",
    "    return tokens"
   ]
  },
  {
   "cell_type": "code",
   "execution_count": 59,
   "metadata": {},
   "outputs": [],
   "source": [
    "def bow_nltk(data: pd.DataFrame, ngram: int=1) -> tuple[dict[str, int], dict[str, int]]:\n",
    "    \"\"\"\n",
    "    Function to create a bag of words from a list of reviews using NLTK.\n",
    "\n",
    "    :param data: A pandas DataFrame with the reviews and the sentiment\n",
    "    :param ngram: The n-gram order (default=1)\n",
    "    :return: A tuple with the positive and negative dictionaries\n",
    "    \"\"\"\n",
    "    pos_dict = defaultdict(int)\n",
    "    neg_dict = defaultdict(int)\n",
    "    \n",
    "    # over reviews and sentiments\n",
    "    for _, row in data.iterrows():\n",
    "        tokens = tokenize_nltk(row['review']) # using NLTK tokenizer\n",
    "        sentiment = row['sentiment']\n",
    "        \n",
    "        ngram_list = ngrams(tokens, ngram)\n",
    "\n",
    "        for ngram_tuple in ngram_list:\n",
    "            ngram_str = ' '.join(ngram_tuple) # join tuple to form the n-gram string\n",
    "            if sentiment == 'pos':\n",
    "                pos_dict[ngram_str] += 1\n",
    "            else:\n",
    "                neg_dict[ngram_str] += 1\n",
    "\n",
    "    return dict(pos_dict), dict(neg_dict)"
   ]
  },
  {
   "cell_type": "code",
   "execution_count": 60,
   "metadata": {},
   "outputs": [],
   "source": [
    "class NaiveBayesClassifierNLTK:\n",
    "    def __init__(self, ngram: int=1, alpha: int=1):\n",
    "        self.ngram = ngram\n",
    "        self.pos_dict = defaultdict(int)\n",
    "        self.neg_dict = defaultdict(int)\n",
    "        self.pos_total_count = 0\n",
    "        self.neg_total_count = 0\n",
    "        self.vocab = set()\n",
    "        self.predictions = []\n",
    "        self.alpha = alpha  \n",
    "    \n",
    "    def fit(self, pos_dict: dict[str, int], neg_dict: dict[str, int]):\n",
    "        \"\"\"\n",
    "        Trains the model with the positive and negative BoW dictionaries.\n",
    "\n",
    "        :param pos_dict: Dictionary for positive sentiment n-grams\n",
    "        :param neg_dict: Dictionary for negative sentiment n-grams\n",
    "        \"\"\"\n",
    "        self.pos_dict = pos_dict\n",
    "        self.neg_dict = neg_dict\n",
    "        \n",
    "        self.pos_total_count = sum(self.pos_dict.values())\n",
    "        self.neg_total_count = sum(self.neg_dict.values())\n",
    "        self.vocab = set(self.pos_dict.keys()).union(set(self.neg_dict.keys()))\n",
    "    \n",
    "    def predict(self, reviews: pd.DataFrame) -> list[str]:\n",
    "        \"\"\"\n",
    "        Predicts sentiment for reviews.\n",
    "\n",
    "        :param reviews: Reviews\n",
    "        :return: Predictions\n",
    "        \"\"\"\n",
    "        self.predictions = []  \n",
    "        \n",
    "        for _, row  in reviews.iterrows():\n",
    "            tokens = tokenize(row['review'])\n",
    "            ngrams = zip(*[tokens[i:] for i in range(self.ngram)])\n",
    "\n",
    "            pos_log_prob = 0.0\n",
    "            neg_log_prob = 0.0\n",
    "\n",
    "            # variables for Laplace (additive) smoothing\n",
    "            alpha = self.alpha\n",
    "            v_size = len(self.vocab)  \n",
    "\n",
    "            for ngram_tuple in ngrams:\n",
    "                ngram_str = ' '.join(ngram_tuple)\n",
    "\n",
    "                # Laplace smoothing\n",
    "                pos_prob = math.log((self.pos_dict.get(ngram_str, 0) + alpha) / (self.pos_total_count + alpha * v_size))\n",
    "                pos_log_prob += pos_prob # taking advantage of the log properties\n",
    "\n",
    "                # Laplace smoothing again\n",
    "                neg_prob = math.log((self.neg_dict.get(ngram_str, 0) + alpha) / (self.neg_total_count + alpha * v_size))\n",
    "                neg_log_prob += neg_prob # taking advantage of the log properties again\n",
    "\n",
    "            self.predictions.append('pos' if pos_log_prob > neg_log_prob else 'neg')\n",
    "    \n",
    "        return self.predictions"
   ]
  },
  {
   "cell_type": "code",
   "execution_count": 61,
   "metadata": {},
   "outputs": [],
   "source": [
    "unigram_train_pos_nltk, unigram_train_neg_nltk = bow_nltk(train_data, ngram=1)\n",
    "bigram_train_pos_nltk, bigram_train_neg_nltk = bow_nltk(train_data, ngram=2)"
   ]
  },
  {
   "cell_type": "markdown",
   "metadata": {},
   "source": [
    "Now let's see how good is that NLTK, shall we?"
   ]
  },
  {
   "cell_type": "code",
   "execution_count": 62,
   "metadata": {},
   "outputs": [
    {
     "name": "stdout",
     "output_type": "stream",
     "text": [
      "Accuracy: 0.8238\n",
      "Precision: 0.8264\n",
      "Recall: 0.8198\n",
      "F1 Score: 0.8231\n"
     ]
    }
   ],
   "source": [
    "# unigram\n",
    "classifier = NaiveBayesClassifierNLTK(ngram=1)\n",
    "classifier.fit(unigram_train_pos_nltk, unigram_train_neg_nltk)\n",
    "predictions = classifier.predict(test_data)\n",
    "evaluate(test_data['sentiment'], predictions)"
   ]
  },
  {
   "cell_type": "code",
   "execution_count": 63,
   "metadata": {},
   "outputs": [
    {
     "name": "stdout",
     "output_type": "stream",
     "text": [
      "Accuracy: 0.8056\n",
      "Precision: 0.7538\n",
      "Recall: 0.9076\n",
      "F1 Score: 0.8236\n"
     ]
    }
   ],
   "source": [
    "# bigram\n",
    "classifier = NaiveBayesClassifierNLTK(ngram=2)\n",
    "classifier.fit(bigram_train_pos_nltk, bigram_train_neg_nltk)\n",
    "predictions = classifier.predict(test_data)\n",
    "evaluate(test_data['sentiment'], predictions)"
   ]
  },
  {
   "cell_type": "markdown",
   "metadata": {},
   "source": [
    "And now let's try with a smaller alpha."
   ]
  },
  {
   "cell_type": "code",
   "execution_count": 64,
   "metadata": {},
   "outputs": [
    {
     "name": "stdout",
     "output_type": "stream",
     "text": [
      "Accuracy: 0.8213\n",
      "Precision: 0.8224\n",
      "Recall: 0.8196\n",
      "F1 Score: 0.8210\n"
     ]
    }
   ],
   "source": [
    "# alpha = 0.5\n",
    "classifier = NaiveBayesClassifierNLTK(ngram=1, alpha=0.5)\n",
    "classifier.fit(unigram_train_pos_nltk, unigram_train_neg_nltk)\n",
    "predictions = classifier.predict(test_data)\n",
    "evaluate(test_data['sentiment'], predictions)"
   ]
  },
  {
   "cell_type": "markdown",
   "metadata": {},
   "source": [
    "Maybe, an even smaller one?"
   ]
  },
  {
   "cell_type": "code",
   "execution_count": 65,
   "metadata": {},
   "outputs": [
    {
     "name": "stdout",
     "output_type": "stream",
     "text": [
      "Accuracy: 0.8102\n",
      "Precision: 0.8197\n",
      "Recall: 0.7953\n",
      "F1 Score: 0.8073\n"
     ]
    }
   ],
   "source": [
    "# alpha = 0.1\n",
    "classifier = NaiveBayesClassifierNLTK(ngram=1, alpha=0.1)\n",
    "classifier.fit(unigram_train_pos_nltk, unigram_train_neg_nltk)\n",
    "predictions = classifier.predict(test_data)\n",
    "evaluate(test_data['sentiment'], predictions)"
   ]
  },
  {
   "cell_type": "markdown",
   "metadata": {},
   "source": [
    "OK maybe not :)"
   ]
  },
  {
   "cell_type": "markdown",
   "metadata": {},
   "source": [
    "---"
   ]
  },
  {
   "cell_type": "markdown",
   "metadata": {},
   "source": [
    "## Comparing best scores of all approaches"
   ]
  },
  {
   "cell_type": "markdown",
   "metadata": {},
   "source": [
    "|               |   From Scratch  |            Word2Vec + LogReg            |       NLTK       |\n",
    "|---------------|-----------------|-----------------------------------------|------------------|\n",
    "|   **Params**  | Bigram, alpha=1 | Vector Size=300, Window=50, Min Count=1 | Unigram, alpha=1 | \n",
    "|  **Accuracy** |      <span style=\"color: green;\">**0.8362**</span>     |                  0.8112                 |       0.8238     |\n",
    "| **Precision** |      0.8404     |                 <span style=\"color: green;\">**0.8406**</span>                 |       0.8264     |\n",
    "|   **Recall**  |      <span style=\"color: green;\">**0.8302**</span>     |                  0.7680                 |       0.8198     |\n",
    "|  **F1 Score** |      <span style=\"color: green;\">**0.8352**</span>     |                  0.8027                 |       0.8231     |"
   ]
  },
  {
   "cell_type": "markdown",
   "metadata": {},
   "source": [
    "Overall, my implementation from scratch looks like the best performing one. It may be caused by some limitations, actually, in my opinion. For example, I'm pretty sure that my stopwords are incredibly narrower than NLTK's. Actually when I was deciding on my stopwords I did a bit of research to find a pre-defined stopwords list that is hopefully closer to NLTK's. But inspecting that list further, I realized it consisted some words like \"good\", which actually could hold sentiment for movie reviews. So I just sampled it to a certain degree which felt enough, filtering some words that I thought to be meaningful. So I guess my stopwords are less biased, that might be the reason for these results."
   ]
  }
 ],
 "metadata": {
  "kernelspec": {
   "display_name": "Python 3",
   "language": "python",
   "name": "python3"
  },
  "language_info": {
   "codemirror_mode": {
    "name": "ipython",
    "version": 3
   },
   "file_extension": ".py",
   "mimetype": "text/x-python",
   "name": "python",
   "nbconvert_exporter": "python",
   "pygments_lexer": "ipython3",
   "version": "3.10.0"
  }
 },
 "nbformat": 4,
 "nbformat_minor": 2
}
