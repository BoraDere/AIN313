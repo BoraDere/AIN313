{
 "cells": [
  {
   "cell_type": "markdown",
   "metadata": {},
   "source": [
    "# PART I: Theory Questions"
   ]
  },
  {
   "cell_type": "markdown",
   "metadata": {},
   "source": [
    "---"
   ]
  },
  {
   "cell_type": "markdown",
   "metadata": {},
   "source": [
    "## 1. Question"
   ]
  },
  {
   "cell_type": "markdown",
   "metadata": {},
   "source": [
    "In this question we are asked to sort the emergency calls based on their probability of being an actual emergency. To do that, we have a slick rule called Bayes' Theorem, something derived by our friendly neighborhood statistician, Thomas Bayes. Which states:\n",
    "\n",
    "$$\n",
    "P(A|B)\n",
    "=\n",
    "\\frac{P(B|A) \\cdot P(A)}{P(B)}\n",
    "$$\n",
    "\n",
    "Where $A$ and $B$ are events. Explaining this theorem in detail:\n",
    "- $P(A|B)$ is the conditional probability of $A$ given $B$.\n",
    "- $P(B|A)$ is interpreted in a similar fashion with the former one.\n",
    "- $P(A) \\text{ and } P(B)$ are probabilities of $A \\text{ and } B$ without any given conditions."
   ]
  },
  {
   "cell_type": "markdown",
   "metadata": {},
   "source": [
    "Or if we were to make a more general definition:\n",
    "\n",
    "$\\text{Let } A_1, A_2,...,A_k$ be a collection of $k$ mutually exclusive and exhaustive events with $prior$ probabilities $P(A_i) \\text{ }(i = 1,...,k)$. Then for any other event $B$ for which $P(B) > 0$, the $posterior$ probability of $A_j$ given that $B$ has occured is:\n",
    "\n",
    "\n",
    "$$\n",
    "P(A_j|B)\n",
    "=\n",
    "\\frac{P(B|A_j)\\cdot P(A_j)}{\\sum_{i=1}^{k} P(B|A_i)\\cdot P(A_i)}\n",
    "\\qquad\n",
    "j = 1, ... , k\n",
    "$$"
   ]
  },
  {
   "cell_type": "markdown",
   "metadata": {},
   "source": [
    "Now we can examine all cases one by one."
   ]
  },
  {
   "cell_type": "markdown",
   "metadata": {},
   "source": [
    "### 1st Neighborhood"
   ]
  },
  {
   "cell_type": "markdown",
   "metadata": {},
   "source": [
    "We have these values:\n",
    "- $P(D) = 0.01 \\qquad$ Probability of dangerous fire\n",
    "- $P(\\text{Barbecue Smoke}) = 0.2$ \n",
    "- $P(S|D) = 0.8\\qquad$ Probability of smoke given that there is a dangerous fire"
   ]
  },
  {
   "cell_type": "markdown",
   "metadata": {},
   "source": [
    "Using the Bayes' Theorem, we need to solve this:\n",
    "\n",
    "$$\n",
    "P(D|S)\n",
    "=\n",
    "\\frac{P(S|D) \\cdot P(D)}{P(S)}\n",
    "$$"
   ]
  },
  {
   "cell_type": "markdown",
   "metadata": {},
   "source": [
    "Here we don't know the value of $P(S)$. But we can calculate it with the usage of law of total probability, assuming smoke is caused by only barbecue or a dangerous fire:\n",
    "\n",
    "$$\n",
    "P(S) = P(\\text{Barbecue Smoke}) + P(S|D) \\cdot P(D)\n",
    "$$\n",
    "\n",
    "$$\n",
    "= 0.2 + (0.8 \\times 0.01)\n",
    "$$\n",
    "\n",
    "$$\n",
    "= 0.208\n",
    "$$"
   ]
  },
  {
   "cell_type": "markdown",
   "metadata": {},
   "source": [
    "Now substituting other values:\n",
    "\n",
    "$$\n",
    "P(D|S)\n",
    "=\n",
    "\\frac{0.8 \\times 0.01}{0.208}\n",
    "$$\n",
    "\n",
    "$$\n",
    "\\approx  0.0385\n",
    "$$"
   ]
  },
  {
   "cell_type": "markdown",
   "metadata": {},
   "source": [
    "We can say for this case, the probability of a dangerous fire is approximately 3.85%."
   ]
  },
  {
   "cell_type": "markdown",
   "metadata": {},
   "source": [
    "### 2nd Neighborhood"
   ]
  },
  {
   "cell_type": "markdown",
   "metadata": {},
   "source": [
    "We have these values:\n",
    "- $P(D) = 0.35 \\qquad$ Probability of dangerous fire\n",
    "- $P(\\text{Factory Smoke}) = 0.1$ \n",
    "- $P(S|D) = 0.01\\qquad$ Probability of smoke given that there is a dangerous fire"
   ]
  },
  {
   "cell_type": "markdown",
   "metadata": {},
   "source": [
    "Calculating $P(S)$: (Main Bayes' Theorem is the same, so it won't take place here explicitly.)\n",
    "\n",
    "$$\n",
    "P(S) = P(\\text{Factory Smoke}) + P(S|D) \\cdot P(D)\n",
    "$$\n",
    "\n",
    "$$\n",
    "= 0.1 + (0.35 \\times 0.01)\n",
    "$$\n",
    "\n",
    "$$\n",
    "= 0.1035\n",
    "$$"
   ]
  },
  {
   "cell_type": "markdown",
   "metadata": {},
   "source": [
    "Now substituting other values:\n",
    "\n",
    "$$\n",
    "P(D|S)\n",
    "=\n",
    "\\frac{0.35 \\times 0.01}{0.1035}\n",
    "$$\n",
    "\n",
    "$$\n",
    "\\approx  0.0338\n",
    "$$"
   ]
  },
  {
   "cell_type": "markdown",
   "metadata": {},
   "source": [
    "### 3rd Neighborhood"
   ]
  },
  {
   "cell_type": "markdown",
   "metadata": {},
   "source": [
    "We have these values:\n",
    "- $P(D) = 0.1 \\qquad$ Probability of dangerous fire\n",
    "- $P(\\text{Coal Smoke}) = 0.8$ \n",
    "- $P(S|D) = 0.3\\qquad$ Probability of smoke given that there is a dangerous fire"
   ]
  },
  {
   "cell_type": "markdown",
   "metadata": {},
   "source": [
    "Calculating $P(S)$:\n",
    "\n",
    "$$\n",
    "P(S) = P(\\text{Coal Smoke}) + P(S|D) \\cdot P(D)\n",
    "$$\n",
    "\n",
    "$$\n",
    "= 0.8 + (0.3 \\times 0.1)\n",
    "$$\n",
    "\n",
    "$$\n",
    "= 0.83\n",
    "$$"
   ]
  },
  {
   "cell_type": "markdown",
   "metadata": {},
   "source": [
    "Now substituting other values:\n",
    "\n",
    "$$\n",
    "P(D|S)\n",
    "=\n",
    "\\frac{0.3 \\times 0.1}{0.83}\n",
    "$$\n",
    "\n",
    "$$\n",
    "\\approx  0.0361\n",
    "$$"
   ]
  },
  {
   "cell_type": "markdown",
   "metadata": {},
   "source": [
    "Comparing probabilities for all three cases $(P_1, P_2, P_3)$, we can sort them in this way:\n",
    "\n",
    "$$\n",
    "P_1 > P_3 > P_2\n",
    "$$"
   ]
  },
  {
   "cell_type": "markdown",
   "metadata": {},
   "source": [
    "---"
   ]
  },
  {
   "cell_type": "markdown",
   "metadata": {},
   "source": [
    "## 2. Question"
   ]
  },
  {
   "cell_type": "markdown",
   "metadata": {},
   "source": [
    "Let's visualize the boxes first:\n",
    "\n",
    "| Box Name | Red Count | Blue Count | Pr. of Being Selected\n",
    "|----------|-----------|------------|---------------------|\n",
    "|   Box 1  |     5     |      3     |        0.4          |\n",
    "|   Box 2  |     7     |      4     |        0.6          |"
   ]
  },
  {
   "cell_type": "markdown",
   "metadata": {},
   "source": [
    "### 1st Case"
   ]
  },
  {
   "cell_type": "markdown",
   "metadata": {},
   "source": [
    "Probability of a blue ball drawn is the sum of separate probabilities of a blue ball drawn from each box. For the first box:\n",
    "\n",
    "$$\n",
    "0.4 \\times \\frac{3}{8} = \\frac{1.2}{8}\n",
    "$$\n",
    "\n",
    "For the second one:\n",
    "\n",
    "$$\n",
    "0.6 \\times \\frac{4}{11} = \\frac{2.4}{11}\n",
    "$$\n",
    "\n",
    "Which makes a total of:\n",
    "\n",
    "$$\n",
    "\\frac{1.2}{8} + \\frac{2.4}{11} = \\frac{32.4}{88}\n",
    "$$"
   ]
  },
  {
   "cell_type": "markdown",
   "metadata": {},
   "source": [
    "### 2nd Case"
   ]
  },
  {
   "cell_type": "markdown",
   "metadata": {},
   "source": [
    "The probability of second box being selected ($P(S)$), if it is known that a blue ball is drawn ($P(B)$) can be calculated using Bayes' Theorem again:\n",
    "\n",
    "$$\n",
    "P(S|B) = \\frac{P(B|S) \\cdot P(S)}{P(B)}\n",
    "$$"
   ]
  },
  {
   "cell_type": "markdown",
   "metadata": {},
   "source": [
    "$P(B)$ was calculated as $\\frac{32.4}{88}$ in the previous case. We already know other values too. Substituting:\n",
    "\n",
    "$$\n",
    "P(S|B) = \\frac{\\frac{4}{11} \\cdot 0.6}{\\frac{32.4}{88}}\n",
    "$$\n",
    "\n",
    "$$\n",
    "= \\frac{19.2}{32.4}\n",
    "$$"
   ]
  },
  {
   "cell_type": "markdown",
   "metadata": {},
   "source": [
    "---"
   ]
  },
  {
   "cell_type": "markdown",
   "metadata": {},
   "source": [
    "## 3. Question"
   ]
  },
  {
   "cell_type": "markdown",
   "metadata": {},
   "source": [
    "- Text classification is the primary application for Naïve Bayes classifier methods. (<span style=\"color: red;\">T</span>) <span style=\"color: red;\">Yes, it is mostly used for spam detection, sentiment analysis etc.</span>\n",
    "- When an attribute value in the testing record has no example in the training set, the total posterior probability in a Naïve Bayes algorithm will be zero. (<span style=\"color: red;\">T</span>) <span style=\"color: red;\">True, and it's called the Zero Frequency Problem.</span>"
   ]
  },
  {
   "cell_type": "markdown",
   "metadata": {},
   "source": [
    "---"
   ]
  },
  {
   "cell_type": "markdown",
   "metadata": {},
   "source": [
    "# PART II: Movie Review Classification System"
   ]
  },
  {
   "cell_type": "markdown",
   "metadata": {},
   "source": [
    "## Step 1: Importing and Visualizing Data"
   ]
  },
  {
   "cell_type": "code",
   "execution_count": null,
   "metadata": {},
   "outputs": [],
   "source": [
    "%pip install pandas\n",
    "%pip install seaborn\n",
    "%pip install matplotlib"
   ]
  },
  {
   "cell_type": "code",
   "execution_count": 29,
   "metadata": {},
   "outputs": [],
   "source": [
    "import pandas as pd\n",
    "import os\n",
    "import seaborn as sns\n",
    "import matplotlib.pyplot as plt"
   ]
  },
  {
   "cell_type": "code",
   "execution_count": 4,
   "metadata": {},
   "outputs": [],
   "source": [
    "TRAIN_PATH = 'aclImdb/train/'\n",
    "TEST_PATH = 'aclImdb/test/'"
   ]
  },
  {
   "cell_type": "code",
   "execution_count": 8,
   "metadata": {},
   "outputs": [],
   "source": [
    "def load_data(path: str) -> pd.DataFrame:\n",
    "\n",
    "    \"\"\"\n",
    "    Function to load the data from the aclImdb dataset\n",
    "\n",
    "    :param path: Path to the train or test folder\n",
    "    :return: a pandas DataFrame with the reviews and the sentiment\n",
    "    \"\"\"\n",
    "\n",
    "    data = {'review': [], 'sentiment': []}\n",
    "    \n",
    "    for sentiment in ['pos', 'neg']:\n",
    "        sentiment_path = os.path.join(path, sentiment)\n",
    "        for filename in os.listdir(sentiment_path):\n",
    "            if filename.endswith('.txt'):\n",
    "                with open(os.path.join(sentiment_path, filename), 'r', encoding='utf-8') as file:\n",
    "                    data['review'].append(file.read())\n",
    "                    data['sentiment'].append(sentiment)\n",
    "    return pd.DataFrame(data)"
   ]
  },
  {
   "cell_type": "code",
   "execution_count": 9,
   "metadata": {},
   "outputs": [],
   "source": [
    "train_data = load_data(TRAIN_PATH)\n",
    "test_data = load_data(TEST_PATH)"
   ]
  },
  {
   "cell_type": "code",
   "execution_count": 11,
   "metadata": {},
   "outputs": [
    {
     "name": "stdout",
     "output_type": "stream",
     "text": [
      "                                              review sentiment\n",
      "0  Bromwell High is a cartoon comedy. It ran at t...       pos\n",
      "1  I liked the film. Some of the action scenes we...       pos\n",
      "2  Somewhat funny and well-paced action thriller ...       pos\n",
      "3  Just two comments....SEVEN years apart? Hardly...       pos\n",
      "4  Another Aussie masterpiece, this delves into t...       pos\n",
      "\n",
      "                                              review sentiment\n",
      "0  I went and saw this movie last night after bei...       pos\n",
      "1  Actor turned director Bill Paxton follows up h...       pos\n",
      "2  As a recreational golfer with some knowledge o...       pos\n",
      "3  I saw this film in a sneak preview, and it is ...       pos\n",
      "4  Bill Paxton has taken the true story of the 19...       pos\n"
     ]
    }
   ],
   "source": [
    "print(train_data.head())\n",
    "print()\n",
    "print(test_data.head())"
   ]
  },
  {
   "cell_type": "code",
   "execution_count": 31,
   "metadata": {},
   "outputs": [
    {
     "data": {
      "text/plain": [
       "<Axes: xlabel='sentiment', ylabel='count'>"
      ]
     },
     "execution_count": 31,
     "metadata": {},
     "output_type": "execute_result"
    },
    {
     "data": {
      "image/png": "[encoded data removed]",
      "text/plain": [
       "<Figure size 1600x500 with 2 Axes>"
      ]
     },
     "metadata": {},
     "output_type": "display_data"
    }
   ],
   "source": [
    "fig, axes = plt.subplots(1, 2, figsize=(16, 5))\n",
    "colors = ['#024CAA', '#FF7F0E']\n",
    "sns.countplot(x='sentiment', data=train_data, ax=axes[0], palette=colors, hue='sentiment', legend=False)\n",
    "sns.countplot(x='sentiment', data=test_data, ax=axes[1], palette=colors, hue='sentiment', legend=False)"
   ]
  },
  {
   "cell_type": "markdown",
   "metadata": {},
   "source": [
    "---"
   ]
  },
  {
   "cell_type": "markdown",
   "metadata": {},
   "source": [
    "## Step 2: BoW"
   ]
  },
  {
   "cell_type": "code",
   "execution_count": 32,
   "metadata": {},
   "outputs": [],
   "source": [
    "from collections import defaultdict\n",
    "import re"
   ]
  },
  {
   "cell_type": "code",
   "execution_count": 41,
   "metadata": {},
   "outputs": [],
   "source": [
    "# defining stop words\n",
    "stop_words = set([\n",
    "    'the', 'is', 'and', 'in', 'to', 'of', 'a', 'i', 'it', 'that', 'on', 'for', 'with', 'as', \n",
    "    'this', 'was', 'but', 'be', 'at', 'by', 'an', 'he', 'she', 'they', 'them', 'we', 'you',\n",
    "    'are', 'from', 'or', 'not', 'if', 'have', 'has', 'had', 'my', 'your', 'his', 'her', 'its',\n",
    "    'which', 'so', 'there', 'will', 'would', 'can', 'could', 'our', 'their', 'what', 'when', \n",
    "    'where', 'who', 'how', 'just', 'about', 'more', 'up', 'out', 'into', 'no', 'than', 'some', \n",
    "    'other', 'only', 'such', 'do', 'over', 'did'\n",
    "])"
   ]
  },
  {
   "cell_type": "code",
   "execution_count": 42,
   "metadata": {},
   "outputs": [],
   "source": [
    "def tokenize(text):\n",
    "    \"\"\"\n",
    "    A simple function to tokenize a text.\n",
    "\n",
    "    :param text: A text\n",
    "    :return: A list of words\n",
    "    \"\"\"\n",
    "    words = re.findall(r'\\b\\w+\\b', text.lower())\n",
    "    return [word for word in words if word not in stop_words]"
   ]
  },
  {
   "cell_type": "code",
   "execution_count": 49,
   "metadata": {},
   "outputs": [],
   "source": [
    "def bow(data, ngram=1):\n",
    "    \"\"\"\n",
    "    Function to create a bag of words from a list of reviews\n",
    "\n",
    "    :param data: A pandas DataFrame with the reviews and the sentiment\n",
    "    :param ngram: The n-gram order (default=1)\n",
    "    :return: A tuple with the positive and negative dictionaries\n",
    "    \"\"\"\n",
    "    pos_dict = defaultdict(int)\n",
    "    neg_dict = defaultdict(int)\n",
    "    \n",
    "    # over reviews and sentiments\n",
    "    for _, row in data.iterrows():\n",
    "        words = tokenize(row['review'])\n",
    "        sentiment = row['sentiment']\n",
    "\n",
    "        ngrams = zip(*[words[i:] for i in range(ngram)])  \n",
    "\n",
    "        for ngram_tuple in ngrams:\n",
    "            ngram_str = ' '.join(ngram_tuple)  # join tuple to form the n-gram string\n",
    "            if sentiment == 'pos':\n",
    "                pos_dict[ngram_str] += 1\n",
    "            else:\n",
    "                neg_dict[ngram_str] += 1\n",
    "\n",
    "    return dict(pos_dict), dict(neg_dict)\n",
    "\n",
    "\n",
    "unigram_train_pos, unigram_train_neg = bow(train_data, ngram=1)\n",
    "bigram_train_pos, bigram_train_neg = bow(train_data, ngram=2)"
   ]
  },
  {
   "cell_type": "code",
   "execution_count": 52,
   "metadata": {},
   "outputs": [
    {
     "data": {
      "text/plain": [
       "48698"
      ]
     },
     "execution_count": 52,
     "metadata": {},
     "output_type": "execute_result"
    }
   ],
   "source": [
    "len(unigram_train_pos)"
   ]
  }
 ],
 "metadata": {
  "kernelspec": {
   "display_name": "Python 3",
   "language": "python",
   "name": "python3"
  },
  "language_info": {
   "codemirror_mode": {
    "name": "ipython",
    "version": 3
   },
   "file_extension": ".py",
   "mimetype": "text/x-python",
   "name": "python",
   "nbconvert_exporter": "python",
   "pygments_lexer": "ipython3",
   "version": "3.10.0"
  }
 },
 "nbformat": 4,
 "nbformat_minor": 2
}
